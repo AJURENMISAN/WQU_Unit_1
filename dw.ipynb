{
 "cells": [
  {
   "cell_type": "code",
   "execution_count": 3,
   "metadata": {
    "init_cell": true
   },
   "outputs": [],
   "source": [
    "%logstop\n",
    "%logstart -rtq ~/.logs/dw.py append\n",
    "%matplotlib inline\n",
    "import matplotlib\n",
    "import seaborn as sns\n",
    "sns.set()\n",
    "matplotlib.rcParams['figure.dpi'] = 144"
   ]
  },
  {
   "cell_type": "code",
   "execution_count": 4,
   "metadata": {},
   "outputs": [],
   "source": [
    "from static_grader import grader"
   ]
  },
  {
   "cell_type": "markdown",
   "metadata": {},
   "source": [
    "# DW Miniproject\n",
    "## Introduction\n",
    "\n",
    "The objective of this miniproject is to exercise your ability to wrangle tabular data set and aggregate large data sets into meaningful summary statistics. We'll work with the same medical data used in the `pw` miniproject but leverage the power of Pandas to more efficiently represent and act on our data."
   ]
  },
  {
   "cell_type": "markdown",
   "metadata": {},
   "source": [
    "## Downloading the data\n",
    "\n",
    "We first need to download the data we'll be using from Amazon S3:"
   ]
  },
  {
   "cell_type": "code",
   "execution_count": 5,
   "metadata": {},
   "outputs": [
    {
     "name": "stdout",
     "output_type": "stream",
     "text": [
      "mkdir: cannot create directory ‘dw-data’: File exists\n",
      "File ‘./dw-data/201701scripts_sample.csv.gz’ already there; not retrieving.\n",
      "\n",
      "File ‘./dw-data/201606scripts_sample.csv.gz’ already there; not retrieving.\n",
      "\n",
      "File ‘./dw-data/practices.csv.gz’ already there; not retrieving.\n",
      "\n",
      "File ‘./dw-data/chem.csv.gz’ already there; not retrieving.\n",
      "\n"
     ]
    }
   ],
   "source": [
    "!mkdir dw-data\n",
    "!wget http://dataincubator-wqu.s3.amazonaws.com/dwdata/201701scripts_sample.csv.gz -nc -P ./dw-data/\n",
    "!wget http://dataincubator-wqu.s3.amazonaws.com/dwdata/201606scripts_sample.csv.gz -nc -P ./dw-data/\n",
    "!wget http://dataincubator-wqu.s3.amazonaws.com/dwdata/practices.csv.gz -nc -P ./dw-data/\n",
    "!wget http://dataincubator-wqu.s3.amazonaws.com/dwdata/chem.csv.gz -nc -P ./dw-data/"
   ]
  },
  {
   "cell_type": "markdown",
   "metadata": {},
   "source": [
    "## Loading the data\n",
    "\n",
    "Similar to the `PW` miniproject, the first step is to read in the data. The data files are stored as compressed CSV files. You can load the data into a Pandas DataFrame by making use of the `gzip` package to decompress the files and Panda's `read_csv` methods to parse the data into a DataFrame. You may want to check the Pandas documentation for parsing [CSV](http://pandas.pydata.org/pandas-docs/stable/generated/pandas.read_csv.html) files for reference.\n",
    "\n",
    "For a description of the data set please, refer to the [PW miniproject](./pw.ipynb). **Note that all questions make use of the 2017 data only, except for Question 5 which makes use of both the 2017 and 2016 data.**"
   ]
  },
  {
   "cell_type": "code",
   "execution_count": 6,
   "metadata": {},
   "outputs": [],
   "source": [
    "import pandas as pd\n",
    "import numpy as np\n",
    "import gzip"
   ]
  },
  {
   "cell_type": "code",
   "execution_count": 7,
   "metadata": {},
   "outputs": [
    {
     "data": {
      "text/html": [
       "<div>\n",
       "<style scoped>\n",
       "    .dataframe tbody tr th:only-of-type {\n",
       "        vertical-align: middle;\n",
       "    }\n",
       "\n",
       "    .dataframe tbody tr th {\n",
       "        vertical-align: top;\n",
       "    }\n",
       "\n",
       "    .dataframe thead th {\n",
       "        text-align: right;\n",
       "    }\n",
       "</style>\n",
       "<table border=\"1\" class=\"dataframe\">\n",
       "  <thead>\n",
       "    <tr style=\"text-align: right;\">\n",
       "      <th></th>\n",
       "      <th>practice</th>\n",
       "      <th>bnf_code</th>\n",
       "      <th>bnf_name</th>\n",
       "      <th>items</th>\n",
       "      <th>nic</th>\n",
       "      <th>act_cost</th>\n",
       "      <th>quantity</th>\n",
       "    </tr>\n",
       "  </thead>\n",
       "  <tbody>\n",
       "    <tr>\n",
       "      <th>0</th>\n",
       "      <td>N85639</td>\n",
       "      <td>0106020C0</td>\n",
       "      <td>Bisacodyl_Tab E/C 5mg</td>\n",
       "      <td>1</td>\n",
       "      <td>0.39</td>\n",
       "      <td>0.47</td>\n",
       "      <td>12</td>\n",
       "    </tr>\n",
       "    <tr>\n",
       "      <th>1</th>\n",
       "      <td>N85639</td>\n",
       "      <td>0106040M0</td>\n",
       "      <td>Movicol Plain_Paed Pdr Sach 6.9g</td>\n",
       "      <td>1</td>\n",
       "      <td>4.38</td>\n",
       "      <td>4.07</td>\n",
       "      <td>30</td>\n",
       "    </tr>\n",
       "    <tr>\n",
       "      <th>2</th>\n",
       "      <td>N85639</td>\n",
       "      <td>0301011R0</td>\n",
       "      <td>Salbutamol_Inha 100mcg (200 D) CFF</td>\n",
       "      <td>1</td>\n",
       "      <td>1.50</td>\n",
       "      <td>1.40</td>\n",
       "      <td>1</td>\n",
       "    </tr>\n",
       "    <tr>\n",
       "      <th>3</th>\n",
       "      <td>N85639</td>\n",
       "      <td>0304010G0</td>\n",
       "      <td>Chlorphenamine Mal_Oral Soln 2mg/5ml</td>\n",
       "      <td>1</td>\n",
       "      <td>2.62</td>\n",
       "      <td>2.44</td>\n",
       "      <td>150</td>\n",
       "    </tr>\n",
       "    <tr>\n",
       "      <th>4</th>\n",
       "      <td>N85639</td>\n",
       "      <td>0401020K0</td>\n",
       "      <td>Diazepam_Tab 2mg</td>\n",
       "      <td>1</td>\n",
       "      <td>0.16</td>\n",
       "      <td>0.26</td>\n",
       "      <td>6</td>\n",
       "    </tr>\n",
       "  </tbody>\n",
       "</table>\n",
       "</div>"
      ],
      "text/plain": [
       "  practice   bnf_code                              bnf_name  items   nic  \\\n",
       "0   N85639  0106020C0                 Bisacodyl_Tab E/C 5mg      1  0.39   \n",
       "1   N85639  0106040M0      Movicol Plain_Paed Pdr Sach 6.9g      1  4.38   \n",
       "2   N85639  0301011R0    Salbutamol_Inha 100mcg (200 D) CFF      1  1.50   \n",
       "3   N85639  0304010G0  Chlorphenamine Mal_Oral Soln 2mg/5ml      1  2.62   \n",
       "4   N85639  0401020K0                      Diazepam_Tab 2mg      1  0.16   \n",
       "\n",
       "   act_cost  quantity  \n",
       "0      0.47        12  \n",
       "1      4.07        30  \n",
       "2      1.40         1  \n",
       "3      2.44       150  \n",
       "4      0.26         6  "
      ]
     },
     "execution_count": 7,
     "metadata": {},
     "output_type": "execute_result"
    }
   ],
   "source": [
    "# load the 2017 data\n",
    "scripts = pd.read_csv('dw-data/201701scripts_sample.csv.gz')\n",
    "scripts.head()"
   ]
  },
  {
   "cell_type": "code",
   "execution_count": 8,
   "metadata": {},
   "outputs": [
    {
     "data": {
      "text/plain": [
       "(973193, 7)"
      ]
     },
     "execution_count": 8,
     "metadata": {},
     "output_type": "execute_result"
    }
   ],
   "source": [
    "scripts.shape"
   ]
  },
  {
   "cell_type": "code",
   "execution_count": 9,
   "metadata": {},
   "outputs": [
    {
     "data": {
      "text/html": [
       "<div>\n",
       "<style scoped>\n",
       "    .dataframe tbody tr th:only-of-type {\n",
       "        vertical-align: middle;\n",
       "    }\n",
       "\n",
       "    .dataframe tbody tr th {\n",
       "        vertical-align: top;\n",
       "    }\n",
       "\n",
       "    .dataframe thead th {\n",
       "        text-align: right;\n",
       "    }\n",
       "</style>\n",
       "<table border=\"1\" class=\"dataframe\">\n",
       "  <thead>\n",
       "    <tr style=\"text-align: right;\">\n",
       "      <th></th>\n",
       "      <th>code</th>\n",
       "      <th>name</th>\n",
       "      <th>addr_1</th>\n",
       "      <th>addr_2</th>\n",
       "      <th>borough</th>\n",
       "      <th>village</th>\n",
       "      <th>post_code</th>\n",
       "    </tr>\n",
       "  </thead>\n",
       "  <tbody>\n",
       "    <tr>\n",
       "      <th>0</th>\n",
       "      <td>A81001</td>\n",
       "      <td>THE DENSHAM SURGERY</td>\n",
       "      <td>THE HEALTH CENTRE</td>\n",
       "      <td>LAWSON STREET</td>\n",
       "      <td>STOCKTON ON TEES</td>\n",
       "      <td>CLEVELAND</td>\n",
       "      <td>TS18 1HU</td>\n",
       "    </tr>\n",
       "    <tr>\n",
       "      <th>1</th>\n",
       "      <td>A81002</td>\n",
       "      <td>QUEENS PARK MEDICAL CENTRE</td>\n",
       "      <td>QUEENS PARK MEDICAL CTR</td>\n",
       "      <td>FARRER STREET</td>\n",
       "      <td>STOCKTON ON TEES</td>\n",
       "      <td>CLEVELAND</td>\n",
       "      <td>TS18 2AW</td>\n",
       "    </tr>\n",
       "    <tr>\n",
       "      <th>2</th>\n",
       "      <td>A81003</td>\n",
       "      <td>VICTORIA MEDICAL PRACTICE</td>\n",
       "      <td>THE HEALTH CENTRE</td>\n",
       "      <td>VICTORIA ROAD</td>\n",
       "      <td>HARTLEPOOL</td>\n",
       "      <td>CLEVELAND</td>\n",
       "      <td>TS26 8DB</td>\n",
       "    </tr>\n",
       "    <tr>\n",
       "      <th>3</th>\n",
       "      <td>A81004</td>\n",
       "      <td>WOODLANDS ROAD SURGERY</td>\n",
       "      <td>6 WOODLANDS ROAD</td>\n",
       "      <td>NaN</td>\n",
       "      <td>MIDDLESBROUGH</td>\n",
       "      <td>CLEVELAND</td>\n",
       "      <td>TS1 3BE</td>\n",
       "    </tr>\n",
       "    <tr>\n",
       "      <th>4</th>\n",
       "      <td>A81005</td>\n",
       "      <td>SPRINGWOOD SURGERY</td>\n",
       "      <td>SPRINGWOOD SURGERY</td>\n",
       "      <td>RECTORY LANE</td>\n",
       "      <td>GUISBOROUGH</td>\n",
       "      <td>NaN</td>\n",
       "      <td>TS14 7DJ</td>\n",
       "    </tr>\n",
       "  </tbody>\n",
       "</table>\n",
       "</div>"
      ],
      "text/plain": [
       "     code                        name                   addr_1         addr_2  \\\n",
       "0  A81001         THE DENSHAM SURGERY        THE HEALTH CENTRE  LAWSON STREET   \n",
       "1  A81002  QUEENS PARK MEDICAL CENTRE  QUEENS PARK MEDICAL CTR  FARRER STREET   \n",
       "2  A81003   VICTORIA MEDICAL PRACTICE        THE HEALTH CENTRE  VICTORIA ROAD   \n",
       "3  A81004      WOODLANDS ROAD SURGERY         6 WOODLANDS ROAD            NaN   \n",
       "4  A81005          SPRINGWOOD SURGERY       SPRINGWOOD SURGERY   RECTORY LANE   \n",
       "\n",
       "            borough    village post_code  \n",
       "0  STOCKTON ON TEES  CLEVELAND  TS18 1HU  \n",
       "1  STOCKTON ON TEES  CLEVELAND  TS18 2AW  \n",
       "2        HARTLEPOOL  CLEVELAND  TS26 8DB  \n",
       "3     MIDDLESBROUGH  CLEVELAND   TS1 3BE  \n",
       "4       GUISBOROUGH        NaN  TS14 7DJ  "
      ]
     },
     "execution_count": 9,
     "metadata": {},
     "output_type": "execute_result"
    }
   ],
   "source": [
    "col_names=[ 'code', 'name', 'addr_1', 'addr_2', 'borough', 'village', 'post_code']\n",
    "practices = pd.read_csv('dw-data/practices.csv.gz', names=col_names)\n",
    "practices.head()"
   ]
  },
  {
   "cell_type": "code",
   "execution_count": 10,
   "metadata": {},
   "outputs": [
    {
     "data": {
      "text/html": [
       "<div>\n",
       "<style scoped>\n",
       "    .dataframe tbody tr th:only-of-type {\n",
       "        vertical-align: middle;\n",
       "    }\n",
       "\n",
       "    .dataframe tbody tr th {\n",
       "        vertical-align: top;\n",
       "    }\n",
       "\n",
       "    .dataframe thead th {\n",
       "        text-align: right;\n",
       "    }\n",
       "</style>\n",
       "<table border=\"1\" class=\"dataframe\">\n",
       "  <thead>\n",
       "    <tr style=\"text-align: right;\">\n",
       "      <th></th>\n",
       "      <th>CHEM SUB</th>\n",
       "      <th>NAME</th>\n",
       "    </tr>\n",
       "  </thead>\n",
       "  <tbody>\n",
       "    <tr>\n",
       "      <th>0</th>\n",
       "      <td>0101010A0</td>\n",
       "      <td>Alexitol Sodium</td>\n",
       "    </tr>\n",
       "    <tr>\n",
       "      <th>1</th>\n",
       "      <td>0101010B0</td>\n",
       "      <td>Almasilate</td>\n",
       "    </tr>\n",
       "    <tr>\n",
       "      <th>2</th>\n",
       "      <td>0101010C0</td>\n",
       "      <td>Aluminium Hydroxide</td>\n",
       "    </tr>\n",
       "    <tr>\n",
       "      <th>3</th>\n",
       "      <td>0101010D0</td>\n",
       "      <td>Aluminium Hydroxide With Magnesium</td>\n",
       "    </tr>\n",
       "    <tr>\n",
       "      <th>4</th>\n",
       "      <td>0101010E0</td>\n",
       "      <td>Hydrotalcite</td>\n",
       "    </tr>\n",
       "  </tbody>\n",
       "</table>\n",
       "</div>"
      ],
      "text/plain": [
       "    CHEM SUB                                NAME\n",
       "0  0101010A0                     Alexitol Sodium\n",
       "1  0101010B0                          Almasilate\n",
       "2  0101010C0                 Aluminium Hydroxide\n",
       "3  0101010D0  Aluminium Hydroxide With Magnesium\n",
       "4  0101010E0                        Hydrotalcite"
      ]
     },
     "execution_count": 10,
     "metadata": {},
     "output_type": "execute_result"
    }
   ],
   "source": [
    "chem = pd.read_csv('dw-data/chem.csv.gz')\n",
    "chem.head()"
   ]
  },
  {
   "cell_type": "markdown",
   "metadata": {},
   "source": [
    "Now that we've loaded in the data, let's first replicate our results from the `PW` miniproject. Note that we are now working with a larger data set so the answers will be different than in the `PW` miniproject even if the analysis is the same."
   ]
  },
  {
   "cell_type": "markdown",
   "metadata": {},
   "source": [
    "## Question 1: summary_statistics\n",
    "\n",
    "In the `PW` miniproject we first calculated the total, mean, standard deviation, and quartile statistics of the `'items'`, `'quantity'`', `'nic'`, and `'act_cost'` fields. To do this we had to write some functions to calculate the statistics and apply the functions to our data structure. The DataFrame has a `describe` method that will calculate most (not all) of these things for us.\n",
    "\n",
    "Submit the summary statistics to the grader as a list of tuples: [('act_cost', (total, mean, std, q25, median, q75)), ...]"
   ]
  },
  {
   "cell_type": "code",
   "execution_count": 11,
   "metadata": {},
   "outputs": [],
   "source": [
    "#summary_stats = [('items', (0,) * 6), ('quantity', (0,) * 6), ('nic', (0,) * 6), ('act_cost', (0,) * 6)]"
   ]
  },
  {
   "cell_type": "code",
   "execution_count": 12,
   "metadata": {},
   "outputs": [],
   "source": [
    "desc = scripts.describe()\n",
    "stats = ['mean', 'std', '25%', '50%', '75%']\n",
    "summary_stats = []\n",
    "for col in ['items', 'quantity', 'nic', 'act_cost']:\n",
    "    summary_stats.append((col, tuple([scripts[col].sum()] + [desc.loc[st, col] for st in stats])))"
   ]
  },
  {
   "cell_type": "code",
   "execution_count": 13,
   "metadata": {},
   "outputs": [
    {
     "name": "stdout",
     "output_type": "stream",
     "text": [
      "==================\n",
      "Your score:  1.0\n",
      "==================\n"
     ]
    }
   ],
   "source": [
    "grader.score.dw__summary_statistics(summary_stats)"
   ]
  },
  {
   "cell_type": "markdown",
   "metadata": {},
   "source": [
    "## Question 2: most_common_item\n",
    "\n",
    "We can also easily compute summary statistics on groups within the data. In the `pw` miniproject we had to explicitly construct the groups based on the values of a particular field. Pandas will handle that for us via the `groupby` method. This process is [detailed in the Pandas documentation](https://pandas.pydata.org/pandas-docs/stable/groupby.html).\n",
    "\n",
    "Use `groupby` to calculate the total number of items dispensed for each `'bnf_name'`. Find the item with the highest total and return the result as `[(bnf_name, total)]`."
   ]
  },
  {
   "cell_type": "code",
   "execution_count": 14,
   "metadata": {},
   "outputs": [],
   "source": [
    "#most_common_item = [(\"\", 0)]"
   ]
  },
  {
   "cell_type": "code",
   "execution_count": 15,
   "metadata": {},
   "outputs": [],
   "source": [
    "sorted_items = scripts.groupby('bnf_name').sum()['items'].sort_values()\n",
    "most_common_item = list(dict(sorted_items.tail(1)).items())"
   ]
  },
  {
   "cell_type": "code",
   "execution_count": 16,
   "metadata": {},
   "outputs": [
    {
     "name": "stdout",
     "output_type": "stream",
     "text": [
      "==================\n",
      "Your score:  1.0\n",
      "==================\n"
     ]
    }
   ],
   "source": [
    "grader.score.dw__most_common_item(most_common_item)"
   ]
  },
  {
   "cell_type": "markdown",
   "metadata": {},
   "source": [
    "## Question 3: items_by_region\n",
    "\n",
    "Now let's find the most common item by post code. The post code information is in the `practices` DataFrame, and we'll need to `merge` it into the `scripts` DataFrame. Pandas provides [extensive documentation](https://pandas.pydata.org/pandas-docs/stable/merging.html) with diagrammed examples on different methods and approaches for joining data. The `merge` method is only one of many possible options.\n",
    "\n",
    "Return your results as a list of tuples `(post code, item name, amount dispensed as % of total)`. Sort your results ascending alphabetically by post code and take only results from the first 100 post codes.\n",
    "\n",
    "**NOTE:** Some practices have multiple postal codes associated with them. Use the alphabetically first postal code. Note some postal codes may have multiple `'bnf_name'` with the same prescription rate for the maximum. In this case, take the alphabetically first `'bnf_name'` (as in the PW miniproject)."
   ]
  },
  {
   "cell_type": "code",
   "execution_count": null,
   "metadata": {},
   "outputs": [],
   "source": []
  },
  {
   "cell_type": "code",
   "execution_count": 17,
   "metadata": {},
   "outputs": [
    {
     "data": {
      "text/html": [
       "<div>\n",
       "<style scoped>\n",
       "    .dataframe tbody tr th:only-of-type {\n",
       "        vertical-align: middle;\n",
       "    }\n",
       "\n",
       "    .dataframe tbody tr th {\n",
       "        vertical-align: top;\n",
       "    }\n",
       "\n",
       "    .dataframe thead th {\n",
       "        text-align: right;\n",
       "    }\n",
       "</style>\n",
       "<table border=\"1\" class=\"dataframe\">\n",
       "  <thead>\n",
       "    <tr style=\"text-align: right;\">\n",
       "      <th></th>\n",
       "      <th>prac_code</th>\n",
       "      <th>bnf_code</th>\n",
       "      <th>bnf_name</th>\n",
       "      <th>items</th>\n",
       "      <th>nic</th>\n",
       "      <th>act_cost</th>\n",
       "      <th>quantity</th>\n",
       "    </tr>\n",
       "  </thead>\n",
       "  <tbody>\n",
       "    <tr>\n",
       "      <th>0</th>\n",
       "      <td>N85639</td>\n",
       "      <td>0106020C0</td>\n",
       "      <td>Bisacodyl_Tab E/C 5mg</td>\n",
       "      <td>1</td>\n",
       "      <td>0.39</td>\n",
       "      <td>0.47</td>\n",
       "      <td>12</td>\n",
       "    </tr>\n",
       "    <tr>\n",
       "      <th>1</th>\n",
       "      <td>N85639</td>\n",
       "      <td>0106040M0</td>\n",
       "      <td>Movicol Plain_Paed Pdr Sach 6.9g</td>\n",
       "      <td>1</td>\n",
       "      <td>4.38</td>\n",
       "      <td>4.07</td>\n",
       "      <td>30</td>\n",
       "    </tr>\n",
       "    <tr>\n",
       "      <th>2</th>\n",
       "      <td>N85639</td>\n",
       "      <td>0301011R0</td>\n",
       "      <td>Salbutamol_Inha 100mcg (200 D) CFF</td>\n",
       "      <td>1</td>\n",
       "      <td>1.50</td>\n",
       "      <td>1.40</td>\n",
       "      <td>1</td>\n",
       "    </tr>\n",
       "    <tr>\n",
       "      <th>3</th>\n",
       "      <td>N85639</td>\n",
       "      <td>0304010G0</td>\n",
       "      <td>Chlorphenamine Mal_Oral Soln 2mg/5ml</td>\n",
       "      <td>1</td>\n",
       "      <td>2.62</td>\n",
       "      <td>2.44</td>\n",
       "      <td>150</td>\n",
       "    </tr>\n",
       "    <tr>\n",
       "      <th>4</th>\n",
       "      <td>N85639</td>\n",
       "      <td>0401020K0</td>\n",
       "      <td>Diazepam_Tab 2mg</td>\n",
       "      <td>1</td>\n",
       "      <td>0.16</td>\n",
       "      <td>0.26</td>\n",
       "      <td>6</td>\n",
       "    </tr>\n",
       "  </tbody>\n",
       "</table>\n",
       "</div>"
      ],
      "text/plain": [
       "  prac_code   bnf_code                              bnf_name  items   nic  \\\n",
       "0    N85639  0106020C0                 Bisacodyl_Tab E/C 5mg      1  0.39   \n",
       "1    N85639  0106040M0      Movicol Plain_Paed Pdr Sach 6.9g      1  4.38   \n",
       "2    N85639  0301011R0    Salbutamol_Inha 100mcg (200 D) CFF      1  1.50   \n",
       "3    N85639  0304010G0  Chlorphenamine Mal_Oral Soln 2mg/5ml      1  2.62   \n",
       "4    N85639  0401020K0                      Diazepam_Tab 2mg      1  0.16   \n",
       "\n",
       "   act_cost  quantity  \n",
       "0      0.47        12  \n",
       "1      4.07        30  \n",
       "2      1.40         1  \n",
       "3      2.44       150  \n",
       "4      0.26         6  "
      ]
     },
     "execution_count": 17,
     "metadata": {},
     "output_type": "execute_result"
    }
   ],
   "source": [
    "script_copy = scripts.copy()\n",
    "practice_copy = practices.copy()[['code', 'post_code']]\n",
    "script_copy.rename(columns={'practice': 'prac_code'}, inplace=True)\n",
    "practice_copy.rename(columns={'code': 'prac_code'}, inplace=True)\n",
    "script_copy.head()"
   ]
  },
  {
   "cell_type": "code",
   "execution_count": null,
   "metadata": {},
   "outputs": [],
   "source": []
  },
  {
   "cell_type": "code",
   "execution_count": 18,
   "metadata": {},
   "outputs": [
    {
     "data": {
      "text/html": [
       "<div>\n",
       "<style scoped>\n",
       "    .dataframe tbody tr th:only-of-type {\n",
       "        vertical-align: middle;\n",
       "    }\n",
       "\n",
       "    .dataframe tbody tr th {\n",
       "        vertical-align: top;\n",
       "    }\n",
       "\n",
       "    .dataframe thead th {\n",
       "        text-align: right;\n",
       "    }\n",
       "</style>\n",
       "<table border=\"1\" class=\"dataframe\">\n",
       "  <thead>\n",
       "    <tr style=\"text-align: right;\">\n",
       "      <th></th>\n",
       "      <th>prac_code</th>\n",
       "      <th>post_code</th>\n",
       "    </tr>\n",
       "  </thead>\n",
       "  <tbody>\n",
       "    <tr>\n",
       "      <th>0</th>\n",
       "      <td>A81001</td>\n",
       "      <td>TS18 1HU</td>\n",
       "    </tr>\n",
       "    <tr>\n",
       "      <th>1</th>\n",
       "      <td>A81002</td>\n",
       "      <td>TS18 2AW</td>\n",
       "    </tr>\n",
       "    <tr>\n",
       "      <th>2</th>\n",
       "      <td>A81003</td>\n",
       "      <td>TS26 8DB</td>\n",
       "    </tr>\n",
       "    <tr>\n",
       "      <th>3</th>\n",
       "      <td>A81004</td>\n",
       "      <td>TS1 3BE</td>\n",
       "    </tr>\n",
       "    <tr>\n",
       "      <th>4</th>\n",
       "      <td>A81005</td>\n",
       "      <td>TS14 7DJ</td>\n",
       "    </tr>\n",
       "  </tbody>\n",
       "</table>\n",
       "</div>"
      ],
      "text/plain": [
       "  prac_code post_code\n",
       "0    A81001  TS18 1HU\n",
       "1    A81002  TS18 2AW\n",
       "2    A81003  TS26 8DB\n",
       "3    A81004   TS1 3BE\n",
       "4    A81005  TS14 7DJ"
      ]
     },
     "execution_count": 18,
     "metadata": {},
     "output_type": "execute_result"
    }
   ],
   "source": [
    "practice_copy.head()"
   ]
  },
  {
   "cell_type": "code",
   "execution_count": 19,
   "metadata": {},
   "outputs": [],
   "source": [
    "practice_copy = practice_copy.groupby('prac_code').apply(lambda x: x.sort_values(by='post_code').iloc[0])"
   ]
  },
  {
   "cell_type": "code",
   "execution_count": 20,
   "metadata": {},
   "outputs": [],
   "source": [
    "practice_copy = practice_copy.drop('prac_code', axis=1).reset_index()"
   ]
  },
  {
   "cell_type": "code",
   "execution_count": 21,
   "metadata": {},
   "outputs": [
    {
     "data": {
      "text/html": [
       "<div>\n",
       "<style scoped>\n",
       "    .dataframe tbody tr th:only-of-type {\n",
       "        vertical-align: middle;\n",
       "    }\n",
       "\n",
       "    .dataframe tbody tr th {\n",
       "        vertical-align: top;\n",
       "    }\n",
       "\n",
       "    .dataframe thead th {\n",
       "        text-align: right;\n",
       "    }\n",
       "</style>\n",
       "<table border=\"1\" class=\"dataframe\">\n",
       "  <thead>\n",
       "    <tr style=\"text-align: right;\">\n",
       "      <th></th>\n",
       "      <th>prac_code</th>\n",
       "      <th>bnf_code</th>\n",
       "      <th>bnf_name</th>\n",
       "      <th>items</th>\n",
       "      <th>nic</th>\n",
       "      <th>act_cost</th>\n",
       "      <th>quantity</th>\n",
       "      <th>post_code</th>\n",
       "    </tr>\n",
       "  </thead>\n",
       "  <tbody>\n",
       "    <tr>\n",
       "      <th>0</th>\n",
       "      <td>N85639</td>\n",
       "      <td>0106020C0</td>\n",
       "      <td>Bisacodyl_Tab E/C 5mg</td>\n",
       "      <td>1</td>\n",
       "      <td>0.39</td>\n",
       "      <td>0.47</td>\n",
       "      <td>12</td>\n",
       "      <td>CH44 5UF</td>\n",
       "    </tr>\n",
       "    <tr>\n",
       "      <th>1</th>\n",
       "      <td>N85639</td>\n",
       "      <td>0106040M0</td>\n",
       "      <td>Movicol Plain_Paed Pdr Sach 6.9g</td>\n",
       "      <td>1</td>\n",
       "      <td>4.38</td>\n",
       "      <td>4.07</td>\n",
       "      <td>30</td>\n",
       "      <td>CH44 5UF</td>\n",
       "    </tr>\n",
       "    <tr>\n",
       "      <th>2</th>\n",
       "      <td>N85639</td>\n",
       "      <td>0301011R0</td>\n",
       "      <td>Salbutamol_Inha 100mcg (200 D) CFF</td>\n",
       "      <td>1</td>\n",
       "      <td>1.50</td>\n",
       "      <td>1.40</td>\n",
       "      <td>1</td>\n",
       "      <td>CH44 5UF</td>\n",
       "    </tr>\n",
       "    <tr>\n",
       "      <th>3</th>\n",
       "      <td>N85639</td>\n",
       "      <td>0304010G0</td>\n",
       "      <td>Chlorphenamine Mal_Oral Soln 2mg/5ml</td>\n",
       "      <td>1</td>\n",
       "      <td>2.62</td>\n",
       "      <td>2.44</td>\n",
       "      <td>150</td>\n",
       "      <td>CH44 5UF</td>\n",
       "    </tr>\n",
       "    <tr>\n",
       "      <th>4</th>\n",
       "      <td>N85639</td>\n",
       "      <td>0401020K0</td>\n",
       "      <td>Diazepam_Tab 2mg</td>\n",
       "      <td>1</td>\n",
       "      <td>0.16</td>\n",
       "      <td>0.26</td>\n",
       "      <td>6</td>\n",
       "      <td>CH44 5UF</td>\n",
       "    </tr>\n",
       "  </tbody>\n",
       "</table>\n",
       "</div>"
      ],
      "text/plain": [
       "  prac_code   bnf_code                              bnf_name  items   nic  \\\n",
       "0    N85639  0106020C0                 Bisacodyl_Tab E/C 5mg      1  0.39   \n",
       "1    N85639  0106040M0      Movicol Plain_Paed Pdr Sach 6.9g      1  4.38   \n",
       "2    N85639  0301011R0    Salbutamol_Inha 100mcg (200 D) CFF      1  1.50   \n",
       "3    N85639  0304010G0  Chlorphenamine Mal_Oral Soln 2mg/5ml      1  2.62   \n",
       "4    N85639  0401020K0                      Diazepam_Tab 2mg      1  0.16   \n",
       "\n",
       "   act_cost  quantity post_code  \n",
       "0      0.47        12  CH44 5UF  \n",
       "1      4.07        30  CH44 5UF  \n",
       "2      1.40         1  CH44 5UF  \n",
       "3      2.44       150  CH44 5UF  \n",
       "4      0.26         6  CH44 5UF  "
      ]
     },
     "execution_count": 21,
     "metadata": {},
     "output_type": "execute_result"
    }
   ],
   "source": [
    "joined = pd.merge(script_copy, practice_copy, how='left', on='prac_code')\n",
    "joined.head()"
   ]
  },
  {
   "cell_type": "code",
   "execution_count": 22,
   "metadata": {},
   "outputs": [],
   "source": [
    "assert joined.shape[0] == scripts.shape[0]"
   ]
  },
  {
   "cell_type": "code",
   "execution_count": null,
   "metadata": {},
   "outputs": [],
   "source": []
  },
  {
   "cell_type": "code",
   "execution_count": 23,
   "metadata": {},
   "outputs": [],
   "source": [
    "def get_max_item(mini_df):\n",
    "    mini_df = mini_df.groupby('bnf_name').sum().reset_index()\n",
    "    mini_df['frac_item'] = mini_df['items'] / mini_df['items'].sum()\n",
    "    return mini_df.sort_values(by='frac_item').iloc[-1]"
   ]
  },
  {
   "cell_type": "code",
   "execution_count": 24,
   "metadata": {},
   "outputs": [
    {
     "data": {
      "text/html": [
       "<div>\n",
       "<style scoped>\n",
       "    .dataframe tbody tr th:only-of-type {\n",
       "        vertical-align: middle;\n",
       "    }\n",
       "\n",
       "    .dataframe tbody tr th {\n",
       "        vertical-align: top;\n",
       "    }\n",
       "\n",
       "    .dataframe thead th {\n",
       "        text-align: right;\n",
       "    }\n",
       "</style>\n",
       "<table border=\"1\" class=\"dataframe\">\n",
       "  <thead>\n",
       "    <tr style=\"text-align: right;\">\n",
       "      <th></th>\n",
       "      <th>bnf_name</th>\n",
       "      <th>items</th>\n",
       "      <th>nic</th>\n",
       "      <th>act_cost</th>\n",
       "      <th>quantity</th>\n",
       "      <th>frac_item</th>\n",
       "    </tr>\n",
       "    <tr>\n",
       "      <th>post_code</th>\n",
       "      <th></th>\n",
       "      <th></th>\n",
       "      <th></th>\n",
       "      <th></th>\n",
       "      <th></th>\n",
       "      <th></th>\n",
       "    </tr>\n",
       "  </thead>\n",
       "  <tbody>\n",
       "    <tr>\n",
       "      <th>B11 4BW</th>\n",
       "      <td>Salbutamol_Inha 100mcg (200 D) CFF</td>\n",
       "      <td>706</td>\n",
       "      <td>1623.00</td>\n",
       "      <td>1511.26</td>\n",
       "      <td>1082</td>\n",
       "      <td>0.031059</td>\n",
       "    </tr>\n",
       "    <tr>\n",
       "      <th>B12 9LP</th>\n",
       "      <td>Paracet_Tab 500mg</td>\n",
       "      <td>425</td>\n",
       "      <td>996.10</td>\n",
       "      <td>931.32</td>\n",
       "      <td>45490</td>\n",
       "      <td>0.024893</td>\n",
       "    </tr>\n",
       "    <tr>\n",
       "      <th>B18 7AL</th>\n",
       "      <td>Salbutamol_Inha 100mcg (200 D) CFF</td>\n",
       "      <td>556</td>\n",
       "      <td>1014.00</td>\n",
       "      <td>945.62</td>\n",
       "      <td>676</td>\n",
       "      <td>0.027111</td>\n",
       "    </tr>\n",
       "    <tr>\n",
       "      <th>B21 9RY</th>\n",
       "      <td>Metformin HCl_Tab 500mg</td>\n",
       "      <td>1033</td>\n",
       "      <td>3849.19</td>\n",
       "      <td>3589.00</td>\n",
       "      <td>125316</td>\n",
       "      <td>0.033294</td>\n",
       "    </tr>\n",
       "    <tr>\n",
       "      <th>B23 6DJ</th>\n",
       "      <td>Lansoprazole_Cap 30mg (E/C Gran)</td>\n",
       "      <td>599</td>\n",
       "      <td>891.83</td>\n",
       "      <td>841.15</td>\n",
       "      <td>22445</td>\n",
       "      <td>0.021384</td>\n",
       "    </tr>\n",
       "  </tbody>\n",
       "</table>\n",
       "</div>"
      ],
      "text/plain": [
       "                                     bnf_name  items      nic  act_cost  \\\n",
       "post_code                                                                 \n",
       "B11 4BW    Salbutamol_Inha 100mcg (200 D) CFF    706  1623.00   1511.26   \n",
       "B12 9LP                     Paracet_Tab 500mg    425   996.10    931.32   \n",
       "B18 7AL    Salbutamol_Inha 100mcg (200 D) CFF    556  1014.00    945.62   \n",
       "B21 9RY               Metformin HCl_Tab 500mg   1033  3849.19   3589.00   \n",
       "B23 6DJ      Lansoprazole_Cap 30mg (E/C Gran)    599   891.83    841.15   \n",
       "\n",
       "           quantity  frac_item  \n",
       "post_code                       \n",
       "B11 4BW        1082   0.031059  \n",
       "B12 9LP       45490   0.024893  \n",
       "B18 7AL         676   0.027111  \n",
       "B21 9RY      125316   0.033294  \n",
       "B23 6DJ       22445   0.021384  "
      ]
     },
     "execution_count": 24,
     "metadata": {},
     "output_type": "execute_result"
    }
   ],
   "source": [
    "items_by_region =joined.groupby('post_code').apply(get_max_item)\n",
    "items_by_region.head()"
   ]
  },
  {
   "cell_type": "code",
   "execution_count": 25,
   "metadata": {},
   "outputs": [],
   "source": [
    "#items_by_region = [(\"B11 4BW\", \"Salbutamol_Inha 100mcg (200 D) CFF\", 0.0310589063)] * 100"
   ]
  },
  {
   "cell_type": "code",
   "execution_count": null,
   "metadata": {},
   "outputs": [],
   "source": []
  },
  {
   "cell_type": "code",
   "execution_count": 26,
   "metadata": {},
   "outputs": [],
   "source": [
    "items_by_region = [(p, items_by_region.loc[p, 'bnf_name'], items_by_region.loc[p, 'frac_item']) \\\n",
    "                   for p in items_by_region.index[:100]]"
   ]
  },
  {
   "cell_type": "code",
   "execution_count": 27,
   "metadata": {},
   "outputs": [
    {
     "name": "stdout",
     "output_type": "stream",
     "text": [
      "==================\n",
      "Your score:  1.0\n",
      "==================\n"
     ]
    }
   ],
   "source": [
    "grader.score.dw__items_by_region(items_by_region)"
   ]
  },
  {
   "cell_type": "markdown",
   "metadata": {},
   "source": [
    "## Question 4: script_anomalies\n",
    "\n",
    "Drug abuse is a source of human and monetary costs in health care. A first step in identifying practitioners that enable drug abuse is to look for practices where commonly abused drugs are prescribed unusually often. Let's try to find practices that prescribe an unusually high amount of opioids. The opioids we'll look for are given in the list below."
   ]
  },
  {
   "cell_type": "code",
   "execution_count": 28,
   "metadata": {},
   "outputs": [],
   "source": [
    "opioids = ['morphine', 'oxycodone', 'methadone', 'fentanyl', 'pethidine', 'buprenorphine', 'propoxyphene', 'codeine']"
   ]
  },
  {
   "cell_type": "markdown",
   "metadata": {},
   "source": [
    "These are generic names for drugs, not brand names. Generic drug names can be found using the `'bnf_code'` field in `scripts` along with the `chem` table.. Use the list of opioids provided above along with these fields to make a new field in the `scripts` data that flags whether the row corresponds with a opioid prescription."
   ]
  },
  {
   "cell_type": "code",
   "execution_count": null,
   "metadata": {},
   "outputs": [],
   "source": []
  },
  {
   "cell_type": "code",
   "execution_count": 29,
   "metadata": {},
   "outputs": [
    {
     "data": {
      "text/html": [
       "<div>\n",
       "<style scoped>\n",
       "    .dataframe tbody tr th:only-of-type {\n",
       "        vertical-align: middle;\n",
       "    }\n",
       "\n",
       "    .dataframe tbody tr th {\n",
       "        vertical-align: top;\n",
       "    }\n",
       "\n",
       "    .dataframe thead th {\n",
       "        text-align: right;\n",
       "    }\n",
       "</style>\n",
       "<table border=\"1\" class=\"dataframe\">\n",
       "  <thead>\n",
       "    <tr style=\"text-align: right;\">\n",
       "      <th></th>\n",
       "      <th>CHEM SUB</th>\n",
       "      <th>NAME</th>\n",
       "      <th>is_opioids</th>\n",
       "    </tr>\n",
       "  </thead>\n",
       "  <tbody>\n",
       "    <tr>\n",
       "      <th>0</th>\n",
       "      <td>0101010A0</td>\n",
       "      <td>Alexitol Sodium</td>\n",
       "      <td>0</td>\n",
       "    </tr>\n",
       "    <tr>\n",
       "      <th>1</th>\n",
       "      <td>0101010B0</td>\n",
       "      <td>Almasilate</td>\n",
       "      <td>0</td>\n",
       "    </tr>\n",
       "    <tr>\n",
       "      <th>2</th>\n",
       "      <td>0101010C0</td>\n",
       "      <td>Aluminium Hydroxide</td>\n",
       "      <td>0</td>\n",
       "    </tr>\n",
       "    <tr>\n",
       "      <th>3</th>\n",
       "      <td>0101010D0</td>\n",
       "      <td>Aluminium Hydroxide With Magnesium</td>\n",
       "      <td>0</td>\n",
       "    </tr>\n",
       "    <tr>\n",
       "      <th>4</th>\n",
       "      <td>0101010E0</td>\n",
       "      <td>Hydrotalcite</td>\n",
       "      <td>0</td>\n",
       "    </tr>\n",
       "  </tbody>\n",
       "</table>\n",
       "</div>"
      ],
      "text/plain": [
       "    CHEM SUB                                NAME  is_opioids\n",
       "0  0101010A0                     Alexitol Sodium           0\n",
       "1  0101010B0                          Almasilate           0\n",
       "2  0101010C0                 Aluminium Hydroxide           0\n",
       "3  0101010D0  Aluminium Hydroxide With Magnesium           0\n",
       "4  0101010E0                        Hydrotalcite           0"
      ]
     },
     "execution_count": 29,
     "metadata": {},
     "output_type": "execute_result"
    }
   ],
   "source": [
    "chem_copy = chem.copy()\n",
    "chem_copy['is_opioids'] = [int(i) for i in chem_copy['NAME'].str.contains('|'.join(opioids), case=False)]\n",
    "chem_copy.head()"
   ]
  },
  {
   "cell_type": "code",
   "execution_count": null,
   "metadata": {},
   "outputs": [],
   "source": []
  },
  {
   "cell_type": "code",
   "execution_count": 30,
   "metadata": {},
   "outputs": [
    {
     "data": {
      "text/html": [
       "<div>\n",
       "<style scoped>\n",
       "    .dataframe tbody tr th:only-of-type {\n",
       "        vertical-align: middle;\n",
       "    }\n",
       "\n",
       "    .dataframe tbody tr th {\n",
       "        vertical-align: top;\n",
       "    }\n",
       "\n",
       "    .dataframe thead th {\n",
       "        text-align: right;\n",
       "    }\n",
       "</style>\n",
       "<table border=\"1\" class=\"dataframe\">\n",
       "  <thead>\n",
       "    <tr style=\"text-align: right;\">\n",
       "      <th></th>\n",
       "      <th>bnf_code</th>\n",
       "      <th>is_opioids</th>\n",
       "    </tr>\n",
       "  </thead>\n",
       "  <tbody>\n",
       "    <tr>\n",
       "      <th>0</th>\n",
       "      <td>010101000</td>\n",
       "      <td>0</td>\n",
       "    </tr>\n",
       "    <tr>\n",
       "      <th>1</th>\n",
       "      <td>0101010A0</td>\n",
       "      <td>0</td>\n",
       "    </tr>\n",
       "    <tr>\n",
       "      <th>2</th>\n",
       "      <td>0101010B0</td>\n",
       "      <td>0</td>\n",
       "    </tr>\n",
       "    <tr>\n",
       "      <th>3</th>\n",
       "      <td>0101010C0</td>\n",
       "      <td>0</td>\n",
       "    </tr>\n",
       "    <tr>\n",
       "      <th>4</th>\n",
       "      <td>0101010D0</td>\n",
       "      <td>0</td>\n",
       "    </tr>\n",
       "  </tbody>\n",
       "</table>\n",
       "</div>"
      ],
      "text/plain": [
       "    bnf_code  is_opioids\n",
       "0  010101000           0\n",
       "1  0101010A0           0\n",
       "2  0101010B0           0\n",
       "3  0101010C0           0\n",
       "4  0101010D0           0"
      ]
     },
     "execution_count": 30,
     "metadata": {},
     "output_type": "execute_result"
    }
   ],
   "source": [
    "is_opioids_df = chem_copy.groupby('CHEM SUB').first()['is_opioids'].reset_index()\n",
    "is_opioids_df = is_opioids_df.rename(columns={0: 'is_opioids', 'CHEM SUB': 'bnf_code'})\n",
    "is_opioids_df.head()"
   ]
  },
  {
   "cell_type": "code",
   "execution_count": null,
   "metadata": {},
   "outputs": [],
   "source": []
  },
  {
   "cell_type": "code",
   "execution_count": 31,
   "metadata": {},
   "outputs": [
    {
     "name": "stdout",
     "output_type": "stream",
     "text": [
      "(973193, 9)\n"
     ]
    },
    {
     "data": {
      "text/html": [
       "<div>\n",
       "<style scoped>\n",
       "    .dataframe tbody tr th:only-of-type {\n",
       "        vertical-align: middle;\n",
       "    }\n",
       "\n",
       "    .dataframe tbody tr th {\n",
       "        vertical-align: top;\n",
       "    }\n",
       "\n",
       "    .dataframe thead th {\n",
       "        text-align: right;\n",
       "    }\n",
       "</style>\n",
       "<table border=\"1\" class=\"dataframe\">\n",
       "  <thead>\n",
       "    <tr style=\"text-align: right;\">\n",
       "      <th></th>\n",
       "      <th>prac_code</th>\n",
       "      <th>bnf_code</th>\n",
       "      <th>bnf_name</th>\n",
       "      <th>items</th>\n",
       "      <th>nic</th>\n",
       "      <th>act_cost</th>\n",
       "      <th>quantity</th>\n",
       "      <th>post_code</th>\n",
       "      <th>is_opioids</th>\n",
       "    </tr>\n",
       "  </thead>\n",
       "  <tbody>\n",
       "    <tr>\n",
       "      <th>0</th>\n",
       "      <td>N85639</td>\n",
       "      <td>0106020C0</td>\n",
       "      <td>Bisacodyl_Tab E/C 5mg</td>\n",
       "      <td>1</td>\n",
       "      <td>0.39</td>\n",
       "      <td>0.47</td>\n",
       "      <td>12</td>\n",
       "      <td>CH44 5UF</td>\n",
       "      <td>0.0</td>\n",
       "    </tr>\n",
       "    <tr>\n",
       "      <th>1</th>\n",
       "      <td>N85639</td>\n",
       "      <td>0106040M0</td>\n",
       "      <td>Movicol Plain_Paed Pdr Sach 6.9g</td>\n",
       "      <td>1</td>\n",
       "      <td>4.38</td>\n",
       "      <td>4.07</td>\n",
       "      <td>30</td>\n",
       "      <td>CH44 5UF</td>\n",
       "      <td>0.0</td>\n",
       "    </tr>\n",
       "    <tr>\n",
       "      <th>2</th>\n",
       "      <td>N85639</td>\n",
       "      <td>0301011R0</td>\n",
       "      <td>Salbutamol_Inha 100mcg (200 D) CFF</td>\n",
       "      <td>1</td>\n",
       "      <td>1.50</td>\n",
       "      <td>1.40</td>\n",
       "      <td>1</td>\n",
       "      <td>CH44 5UF</td>\n",
       "      <td>0.0</td>\n",
       "    </tr>\n",
       "    <tr>\n",
       "      <th>3</th>\n",
       "      <td>N85639</td>\n",
       "      <td>0304010G0</td>\n",
       "      <td>Chlorphenamine Mal_Oral Soln 2mg/5ml</td>\n",
       "      <td>1</td>\n",
       "      <td>2.62</td>\n",
       "      <td>2.44</td>\n",
       "      <td>150</td>\n",
       "      <td>CH44 5UF</td>\n",
       "      <td>0.0</td>\n",
       "    </tr>\n",
       "    <tr>\n",
       "      <th>4</th>\n",
       "      <td>N85639</td>\n",
       "      <td>0401020K0</td>\n",
       "      <td>Diazepam_Tab 2mg</td>\n",
       "      <td>1</td>\n",
       "      <td>0.16</td>\n",
       "      <td>0.26</td>\n",
       "      <td>6</td>\n",
       "      <td>CH44 5UF</td>\n",
       "      <td>0.0</td>\n",
       "    </tr>\n",
       "  </tbody>\n",
       "</table>\n",
       "</div>"
      ],
      "text/plain": [
       "  prac_code   bnf_code                              bnf_name  items   nic  \\\n",
       "0    N85639  0106020C0                 Bisacodyl_Tab E/C 5mg      1  0.39   \n",
       "1    N85639  0106040M0      Movicol Plain_Paed Pdr Sach 6.9g      1  4.38   \n",
       "2    N85639  0301011R0    Salbutamol_Inha 100mcg (200 D) CFF      1  1.50   \n",
       "3    N85639  0304010G0  Chlorphenamine Mal_Oral Soln 2mg/5ml      1  2.62   \n",
       "4    N85639  0401020K0                      Diazepam_Tab 2mg      1  0.16   \n",
       "\n",
       "   act_cost  quantity post_code  is_opioids  \n",
       "0      0.47        12  CH44 5UF         0.0  \n",
       "1      4.07        30  CH44 5UF         0.0  \n",
       "2      1.40         1  CH44 5UF         0.0  \n",
       "3      2.44       150  CH44 5UF         0.0  \n",
       "4      0.26         6  CH44 5UF         0.0  "
      ]
     },
     "execution_count": 31,
     "metadata": {},
     "output_type": "execute_result"
    }
   ],
   "source": [
    "joined = pd.merge(joined, is_opioids_df, on='bnf_code', how='left')\n",
    "print(joined.shape)\n",
    "joined.head()"
   ]
  },
  {
   "cell_type": "code",
   "execution_count": 32,
   "metadata": {},
   "outputs": [
    {
     "data": {
      "text/plain": [
       "prac_code          0\n",
       "bnf_code           0\n",
       "bnf_name           0\n",
       "items              0\n",
       "nic                0\n",
       "act_cost           0\n",
       "quantity           0\n",
       "post_code          0\n",
       "is_opioids    118749\n",
       "dtype: int64"
      ]
     },
     "execution_count": 32,
     "metadata": {},
     "output_type": "execute_result"
    }
   ],
   "source": [
    "joined.isnull().sum()"
   ]
  },
  {
   "cell_type": "code",
   "execution_count": 33,
   "metadata": {},
   "outputs": [
    {
     "data": {
      "text/plain": [
       "prac_code     0\n",
       "bnf_code      0\n",
       "bnf_name      0\n",
       "items         0\n",
       "nic           0\n",
       "act_cost      0\n",
       "quantity      0\n",
       "post_code     0\n",
       "is_opioids    0\n",
       "dtype: int64"
      ]
     },
     "execution_count": 33,
     "metadata": {},
     "output_type": "execute_result"
    }
   ],
   "source": [
    "joined.fillna(0, inplace=True)\n",
    "joined.isnull().sum()"
   ]
  },
  {
   "cell_type": "markdown",
   "metadata": {},
   "source": [
    "Now for each practice calculate the proportion of its prescriptions containing opioids.\n",
    "\n",
    "**Hint:** Consider the following list: `[0, 1, 1, 0, 0, 0]`. What proportion of the entries are 1s? What is the mean value?"
   ]
  },
  {
   "cell_type": "code",
   "execution_count": 34,
   "metadata": {},
   "outputs": [
    {
     "data": {
      "text/plain": [
       "prac_code\n",
       "A81005    0.033179\n",
       "A81007    0.043329\n",
       "A81011    0.046556\n",
       "A81012    0.042793\n",
       "A81017    0.038140\n",
       "Name: is_opioids, dtype: float64"
      ]
     },
     "execution_count": 34,
     "metadata": {},
     "output_type": "execute_result"
    }
   ],
   "source": [
    "opioids_per_practice = joined.groupby('prac_code').mean()['is_opioids']\n",
    "opioids_per_practice.head()"
   ]
  },
  {
   "cell_type": "markdown",
   "metadata": {},
   "source": [
    "How do these proportions compare to the overall opioid prescription rate? Subtract off the proportion of all prescriptions that are opioids from each practice's proportion."
   ]
  },
  {
   "cell_type": "code",
   "execution_count": null,
   "metadata": {},
   "outputs": [],
   "source": []
  },
  {
   "cell_type": "code",
   "execution_count": 35,
   "metadata": {},
   "outputs": [
    {
     "data": {
      "text/plain": [
       "prac_code\n",
       "A81005   -0.002624\n",
       "A81007    0.007526\n",
       "A81011    0.010753\n",
       "A81012    0.006990\n",
       "A81017    0.002337\n",
       "Name: is_opioids, dtype: float64"
      ]
     },
     "execution_count": 35,
     "metadata": {},
     "output_type": "execute_result"
    }
   ],
   "source": [
    "relative_opioids_per_practice = opioids_per_practice - joined['is_opioids'].mean()\n",
    "relative_opioids_per_practice.head()"
   ]
  },
  {
   "cell_type": "markdown",
   "metadata": {},
   "source": [
    "Now that we know the difference between each practice's opioid prescription rate and the overall rate, we can identify which practices prescribe opioids at above average or below average rates. However, are the differences from the overall rate important or just random deviations? In other words, are the differences from the overall rate big or small?\n",
    "\n",
    "To answer this question we have to quantify the difference we would typically expect between a given practice's opioid prescription rate and the overall rate. This quantity is called the **standard error**, and is related to the **standard deviation**, $\\sigma$. The standard error in this case is\n",
    "\n",
    "$$ \\frac{\\sigma}{\\sqrt{n}} $$\n",
    "\n",
    "where $n$ is the number of prescriptions each practice made. Calculate the standard error for each practice. Then divide `relative_opioids_per_practice` by the standard errors. We'll call the final result `opioid_scores`."
   ]
  },
  {
   "cell_type": "code",
   "execution_count": 36,
   "metadata": {},
   "outputs": [
    {
     "data": {
      "text/plain": [
       "prac_code\n",
       "A81005    1507\n",
       "A81007    1454\n",
       "A81011    1568\n",
       "A81012    1332\n",
       "A81017    2150\n",
       "Name: n_script, dtype: int64"
      ]
     },
     "execution_count": 36,
     "metadata": {},
     "output_type": "execute_result"
    }
   ],
   "source": [
    "n_scripts = joined.groupby('prac_code').count()['is_opioids']\n",
    "n_scripts.name = 'n_script'\n",
    "n_scripts.head()"
   ]
  },
  {
   "cell_type": "code",
   "execution_count": 37,
   "metadata": {},
   "outputs": [],
   "source": [
    "#relative_opioids_per_practice = relative_opioids_per_practice.reset_index()\n",
    "#relative_opioids_per_practice.head()"
   ]
  },
  {
   "cell_type": "code",
   "execution_count": 38,
   "metadata": {},
   "outputs": [
    {
     "data": {
      "text/plain": [
       "prac_code\n",
       "A81005    0.004786\n",
       "A81007    0.004873\n",
       "A81011    0.004692\n",
       "A81012    0.005091\n",
       "A81017    0.004007\n",
       "Name: n_script, dtype: float64"
      ]
     },
     "execution_count": 38,
     "metadata": {},
     "output_type": "execute_result"
    }
   ],
   "source": [
    "standard_error_per_practice = np.std(joined['is_opioids']) / np.sqrt(n_scripts)\n",
    "standard_error_per_practice.head()"
   ]
  },
  {
   "cell_type": "code",
   "execution_count": 39,
   "metadata": {},
   "outputs": [
    {
     "data": {
      "text/plain": [
       "prac_code\n",
       "A81005   -0.548306\n",
       "A81007    1.544558\n",
       "A81011    2.291796\n",
       "A81012    1.373061\n",
       "A81017    0.583168\n",
       "dtype: float64"
      ]
     },
     "execution_count": 39,
     "metadata": {},
     "output_type": "execute_result"
    }
   ],
   "source": [
    "opioid_scores = relative_opioids_per_practice / standard_error_per_practice\n",
    "opioid_scores.head()"
   ]
  },
  {
   "cell_type": "markdown",
   "metadata": {},
   "source": [
    "The quantity we have calculated in `opioid_scores` is called a **z-score**:\n",
    "\n",
    "$$ \\frac{\\bar{X} - \\mu}{\\sqrt{\\sigma^2/n}} $$\n",
    "\n",
    "Here $\\bar{X}$ corresponds with the proportion for each practice, $\\mu$ corresponds with the proportion across all practices, $\\sigma^2$ corresponds with the variance of the proportion across all practices, and $n$ is the number of prescriptions made by each practice. Notice $\\bar{X}$ and $n$ will be different for each practice, while $\\mu$ and $\\sigma$ are determined across all prescriptions, and so are the same for every z-score. The z-score is a useful statistical tool used for hypothesis testing, finding outliers, and comparing data about different types of objects or events.\n",
    "\n",
    "Now that we've calculated this statistic, take the 100 practices with the largest z-score. Return your result as a list of tuples in the form `(practice_name, z-score, number_of_scripts)`. Sort your tuples by z-score in descending order. Note that some practice codes will correspond with multiple names. In this case, use the first match when sorting names alphabetically."
   ]
  },
  {
   "cell_type": "code",
   "execution_count": 40,
   "metadata": {},
   "outputs": [
    {
     "data": {
      "text/html": [
       "<div>\n",
       "<style scoped>\n",
       "    .dataframe tbody tr th:only-of-type {\n",
       "        vertical-align: middle;\n",
       "    }\n",
       "\n",
       "    .dataframe tbody tr th {\n",
       "        vertical-align: top;\n",
       "    }\n",
       "\n",
       "    .dataframe thead th {\n",
       "        text-align: right;\n",
       "    }\n",
       "</style>\n",
       "<table border=\"1\" class=\"dataframe\">\n",
       "  <thead>\n",
       "    <tr style=\"text-align: right;\">\n",
       "      <th></th>\n",
       "      <th>prac_code</th>\n",
       "      <th>0</th>\n",
       "    </tr>\n",
       "  </thead>\n",
       "  <tbody>\n",
       "    <tr>\n",
       "      <th>0</th>\n",
       "      <td>A81005</td>\n",
       "      <td>-0.548306</td>\n",
       "    </tr>\n",
       "    <tr>\n",
       "      <th>1</th>\n",
       "      <td>A81007</td>\n",
       "      <td>1.544558</td>\n",
       "    </tr>\n",
       "    <tr>\n",
       "      <th>2</th>\n",
       "      <td>A81011</td>\n",
       "      <td>2.291796</td>\n",
       "    </tr>\n",
       "    <tr>\n",
       "      <th>3</th>\n",
       "      <td>A81012</td>\n",
       "      <td>1.373061</td>\n",
       "    </tr>\n",
       "    <tr>\n",
       "      <th>4</th>\n",
       "      <td>A81017</td>\n",
       "      <td>0.583168</td>\n",
       "    </tr>\n",
       "  </tbody>\n",
       "</table>\n",
       "</div>"
      ],
      "text/plain": [
       "  prac_code         0\n",
       "0    A81005 -0.548306\n",
       "1    A81007  1.544558\n",
       "2    A81011  2.291796\n",
       "3    A81012  1.373061\n",
       "4    A81017  0.583168"
      ]
     },
     "execution_count": 40,
     "metadata": {},
     "output_type": "execute_result"
    }
   ],
   "source": [
    "opioid_scores = opioid_scores.reset_index()\n",
    "opioid_scores.head()"
   ]
  },
  {
   "cell_type": "code",
   "execution_count": 41,
   "metadata": {},
   "outputs": [
    {
     "data": {
      "text/html": [
       "<div>\n",
       "<style scoped>\n",
       "    .dataframe tbody tr th:only-of-type {\n",
       "        vertical-align: middle;\n",
       "    }\n",
       "\n",
       "    .dataframe tbody tr th {\n",
       "        vertical-align: top;\n",
       "    }\n",
       "\n",
       "    .dataframe thead th {\n",
       "        text-align: right;\n",
       "    }\n",
       "</style>\n",
       "<table border=\"1\" class=\"dataframe\">\n",
       "  <thead>\n",
       "    <tr style=\"text-align: right;\">\n",
       "      <th></th>\n",
       "      <th>prac_code</th>\n",
       "      <th>name</th>\n",
       "    </tr>\n",
       "    <tr>\n",
       "      <th>prac_code</th>\n",
       "      <th></th>\n",
       "      <th></th>\n",
       "    </tr>\n",
       "  </thead>\n",
       "  <tbody>\n",
       "    <tr>\n",
       "      <th>A81001</th>\n",
       "      <td>A81001</td>\n",
       "      <td>THE DENSHAM SURGERY</td>\n",
       "    </tr>\n",
       "    <tr>\n",
       "      <th>A81002</th>\n",
       "      <td>A81002</td>\n",
       "      <td>QUEENS PARK MEDICAL CENTRE</td>\n",
       "    </tr>\n",
       "    <tr>\n",
       "      <th>A81003</th>\n",
       "      <td>A81003</td>\n",
       "      <td>VICTORIA MEDICAL PRACTICE</td>\n",
       "    </tr>\n",
       "    <tr>\n",
       "      <th>A81004</th>\n",
       "      <td>A81004</td>\n",
       "      <td>BLUEBELL MEDICAL CENTRE</td>\n",
       "    </tr>\n",
       "    <tr>\n",
       "      <th>A81005</th>\n",
       "      <td>A81005</td>\n",
       "      <td>SPRINGWOOD SURGERY</td>\n",
       "    </tr>\n",
       "  </tbody>\n",
       "</table>\n",
       "</div>"
      ],
      "text/plain": [
       "          prac_code                        name\n",
       "prac_code                                      \n",
       "A81001       A81001         THE DENSHAM SURGERY\n",
       "A81002       A81002  QUEENS PARK MEDICAL CENTRE\n",
       "A81003       A81003   VICTORIA MEDICAL PRACTICE\n",
       "A81004       A81004     BLUEBELL MEDICAL CENTRE\n",
       "A81005       A81005          SPRINGWOOD SURGERY"
      ]
     },
     "execution_count": 41,
     "metadata": {},
     "output_type": "execute_result"
    }
   ],
   "source": [
    "practice_copy2 = practices.copy()[['code', 'name']]\n",
    "practice_copy2 = practice_copy2.rename(columns={'code': 'prac_code'})\n",
    "practice_copy2 = practice_copy2.groupby('prac_code').apply(lambda x: x.sort_values(by='name').iloc[0])\n",
    "practice_copy2.head()"
   ]
  },
  {
   "cell_type": "code",
   "execution_count": 42,
   "metadata": {},
   "outputs": [
    {
     "data": {
      "text/html": [
       "<div>\n",
       "<style scoped>\n",
       "    .dataframe tbody tr th:only-of-type {\n",
       "        vertical-align: middle;\n",
       "    }\n",
       "\n",
       "    .dataframe tbody tr th {\n",
       "        vertical-align: top;\n",
       "    }\n",
       "\n",
       "    .dataframe thead th {\n",
       "        text-align: right;\n",
       "    }\n",
       "</style>\n",
       "<table border=\"1\" class=\"dataframe\">\n",
       "  <thead>\n",
       "    <tr style=\"text-align: right;\">\n",
       "      <th></th>\n",
       "      <th>prac_code</th>\n",
       "      <th>name</th>\n",
       "    </tr>\n",
       "  </thead>\n",
       "  <tbody>\n",
       "    <tr>\n",
       "      <th>0</th>\n",
       "      <td>A81001</td>\n",
       "      <td>THE DENSHAM SURGERY</td>\n",
       "    </tr>\n",
       "    <tr>\n",
       "      <th>1</th>\n",
       "      <td>A81002</td>\n",
       "      <td>QUEENS PARK MEDICAL CENTRE</td>\n",
       "    </tr>\n",
       "    <tr>\n",
       "      <th>2</th>\n",
       "      <td>A81003</td>\n",
       "      <td>VICTORIA MEDICAL PRACTICE</td>\n",
       "    </tr>\n",
       "    <tr>\n",
       "      <th>3</th>\n",
       "      <td>A81004</td>\n",
       "      <td>BLUEBELL MEDICAL CENTRE</td>\n",
       "    </tr>\n",
       "    <tr>\n",
       "      <th>4</th>\n",
       "      <td>A81005</td>\n",
       "      <td>SPRINGWOOD SURGERY</td>\n",
       "    </tr>\n",
       "  </tbody>\n",
       "</table>\n",
       "</div>"
      ],
      "text/plain": [
       "  prac_code                        name\n",
       "0    A81001         THE DENSHAM SURGERY\n",
       "1    A81002  QUEENS PARK MEDICAL CENTRE\n",
       "2    A81003   VICTORIA MEDICAL PRACTICE\n",
       "3    A81004     BLUEBELL MEDICAL CENTRE\n",
       "4    A81005          SPRINGWOOD SURGERY"
      ]
     },
     "execution_count": 42,
     "metadata": {},
     "output_type": "execute_result"
    }
   ],
   "source": [
    "practice_copy2 = practice_copy2.drop('prac_code', axis=1).reset_index()\n",
    "practice_copy2.head()"
   ]
  },
  {
   "cell_type": "code",
   "execution_count": 43,
   "metadata": {},
   "outputs": [
    {
     "data": {
      "text/html": [
       "<div>\n",
       "<style scoped>\n",
       "    .dataframe tbody tr th:only-of-type {\n",
       "        vertical-align: middle;\n",
       "    }\n",
       "\n",
       "    .dataframe tbody tr th {\n",
       "        vertical-align: top;\n",
       "    }\n",
       "\n",
       "    .dataframe thead th {\n",
       "        text-align: right;\n",
       "    }\n",
       "</style>\n",
       "<table border=\"1\" class=\"dataframe\">\n",
       "  <thead>\n",
       "    <tr style=\"text-align: right;\">\n",
       "      <th></th>\n",
       "      <th>prac_code</th>\n",
       "      <th>n_script</th>\n",
       "    </tr>\n",
       "  </thead>\n",
       "  <tbody>\n",
       "    <tr>\n",
       "      <th>0</th>\n",
       "      <td>A81005</td>\n",
       "      <td>1507</td>\n",
       "    </tr>\n",
       "    <tr>\n",
       "      <th>1</th>\n",
       "      <td>A81007</td>\n",
       "      <td>1454</td>\n",
       "    </tr>\n",
       "    <tr>\n",
       "      <th>2</th>\n",
       "      <td>A81011</td>\n",
       "      <td>1568</td>\n",
       "    </tr>\n",
       "    <tr>\n",
       "      <th>3</th>\n",
       "      <td>A81012</td>\n",
       "      <td>1332</td>\n",
       "    </tr>\n",
       "    <tr>\n",
       "      <th>4</th>\n",
       "      <td>A81017</td>\n",
       "      <td>2150</td>\n",
       "    </tr>\n",
       "  </tbody>\n",
       "</table>\n",
       "</div>"
      ],
      "text/plain": [
       "  prac_code  n_script\n",
       "0    A81005      1507\n",
       "1    A81007      1454\n",
       "2    A81011      1568\n",
       "3    A81012      1332\n",
       "4    A81017      2150"
      ]
     },
     "execution_count": 43,
     "metadata": {},
     "output_type": "execute_result"
    }
   ],
   "source": [
    "n_scripts.reset_index().head()"
   ]
  },
  {
   "cell_type": "code",
   "execution_count": 44,
   "metadata": {},
   "outputs": [
    {
     "data": {
      "text/html": [
       "<div>\n",
       "<style scoped>\n",
       "    .dataframe tbody tr th:only-of-type {\n",
       "        vertical-align: middle;\n",
       "    }\n",
       "\n",
       "    .dataframe tbody tr th {\n",
       "        vertical-align: top;\n",
       "    }\n",
       "\n",
       "    .dataframe thead th {\n",
       "        text-align: right;\n",
       "    }\n",
       "</style>\n",
       "<table border=\"1\" class=\"dataframe\">\n",
       "  <thead>\n",
       "    <tr style=\"text-align: right;\">\n",
       "      <th></th>\n",
       "      <th>prac_code</th>\n",
       "      <th>z_score</th>\n",
       "      <th>name</th>\n",
       "      <th>n_script</th>\n",
       "    </tr>\n",
       "  </thead>\n",
       "  <tbody>\n",
       "    <tr>\n",
       "      <th>0</th>\n",
       "      <td>A81005</td>\n",
       "      <td>-0.548306</td>\n",
       "      <td>SPRINGWOOD SURGERY</td>\n",
       "      <td>1507</td>\n",
       "    </tr>\n",
       "    <tr>\n",
       "      <th>1</th>\n",
       "      <td>A81007</td>\n",
       "      <td>1.544558</td>\n",
       "      <td>BANKHOUSE SURGERY</td>\n",
       "      <td>1454</td>\n",
       "    </tr>\n",
       "    <tr>\n",
       "      <th>2</th>\n",
       "      <td>A81011</td>\n",
       "      <td>2.291796</td>\n",
       "      <td>CHADWICK PRACTICE</td>\n",
       "      <td>1568</td>\n",
       "    </tr>\n",
       "    <tr>\n",
       "      <th>3</th>\n",
       "      <td>A81012</td>\n",
       "      <td>1.373061</td>\n",
       "      <td>WESTBOURNE MEDICAL CENTRE</td>\n",
       "      <td>1332</td>\n",
       "    </tr>\n",
       "    <tr>\n",
       "      <th>4</th>\n",
       "      <td>A81017</td>\n",
       "      <td>0.583168</td>\n",
       "      <td>WOODBRIDGE PRACTICE</td>\n",
       "      <td>2150</td>\n",
       "    </tr>\n",
       "  </tbody>\n",
       "</table>\n",
       "</div>"
      ],
      "text/plain": [
       "  prac_code   z_score                       name  n_script\n",
       "0    A81005 -0.548306         SPRINGWOOD SURGERY      1507\n",
       "1    A81007  1.544558          BANKHOUSE SURGERY      1454\n",
       "2    A81011  2.291796          CHADWICK PRACTICE      1568\n",
       "3    A81012  1.373061  WESTBOURNE MEDICAL CENTRE      1332\n",
       "4    A81017  0.583168        WOODBRIDGE PRACTICE      2150"
      ]
     },
     "execution_count": 44,
     "metadata": {},
     "output_type": "execute_result"
    }
   ],
   "source": [
    "opioid_scores = pd.merge(opioid_scores, practice_copy2, how='left', on='prac_code')\n",
    "opioid_scores = pd.merge(opioid_scores, n_scripts.reset_index(), how='left', on='prac_code')\n",
    "opioid_scores = opioid_scores.rename(columns={0: 'z_score'})\n",
    "opioid_scores.head()"
   ]
  },
  {
   "cell_type": "code",
   "execution_count": 45,
   "metadata": {},
   "outputs": [],
   "source": [
    "#unique_practices = ...\n",
    "#anomalies = [(\"NATIONAL ENHANCED SERVICE\", 11.6958178629, 7)] * 100"
   ]
  },
  {
   "cell_type": "code",
   "execution_count": 46,
   "metadata": {},
   "outputs": [
    {
     "data": {
      "text/html": [
       "<div>\n",
       "<style scoped>\n",
       "    .dataframe tbody tr th:only-of-type {\n",
       "        vertical-align: middle;\n",
       "    }\n",
       "\n",
       "    .dataframe tbody tr th {\n",
       "        vertical-align: top;\n",
       "    }\n",
       "\n",
       "    .dataframe thead th {\n",
       "        text-align: right;\n",
       "    }\n",
       "</style>\n",
       "<table border=\"1\" class=\"dataframe\">\n",
       "  <thead>\n",
       "    <tr style=\"text-align: right;\">\n",
       "      <th></th>\n",
       "      <th>z_score</th>\n",
       "      <th>name</th>\n",
       "      <th>n_script</th>\n",
       "    </tr>\n",
       "  </thead>\n",
       "  <tbody>\n",
       "    <tr>\n",
       "      <th>714</th>\n",
       "      <td>11.695824</td>\n",
       "      <td>NATIONAL ENHANCED SERVICE</td>\n",
       "      <td>7</td>\n",
       "    </tr>\n",
       "    <tr>\n",
       "      <th>754</th>\n",
       "      <td>7.339047</td>\n",
       "      <td>OUTREACH SERVICE NH / RH</td>\n",
       "      <td>2</td>\n",
       "    </tr>\n",
       "    <tr>\n",
       "      <th>772</th>\n",
       "      <td>6.150585</td>\n",
       "      <td>BRISDOC HEALTHCARE SERVICES OOH</td>\n",
       "      <td>60</td>\n",
       "    </tr>\n",
       "    <tr>\n",
       "      <th>261</th>\n",
       "      <td>5.123035</td>\n",
       "      <td>H&amp;R P C SPECIAL SCHEME</td>\n",
       "      <td>36</td>\n",
       "    </tr>\n",
       "    <tr>\n",
       "      <th>819</th>\n",
       "      <td>4.958869</td>\n",
       "      <td>HMR BARDOC OOH</td>\n",
       "      <td>321</td>\n",
       "    </tr>\n",
       "  </tbody>\n",
       "</table>\n",
       "</div>"
      ],
      "text/plain": [
       "       z_score                             name  n_script\n",
       "714  11.695824        NATIONAL ENHANCED SERVICE         7\n",
       "754   7.339047         OUTREACH SERVICE NH / RH         2\n",
       "772   6.150585  BRISDOC HEALTHCARE SERVICES OOH        60\n",
       "261   5.123035           H&R P C SPECIAL SCHEME        36\n",
       "819   4.958869                   HMR BARDOC OOH       321"
      ]
     },
     "execution_count": 46,
     "metadata": {},
     "output_type": "execute_result"
    }
   ],
   "source": [
    "results = opioid_scores.sort_values(by='z_score', ascending=False).iloc[:100, 1:]\n",
    "results.head()"
   ]
  },
  {
   "cell_type": "code",
   "execution_count": 47,
   "metadata": {},
   "outputs": [
    {
     "data": {
      "text/plain": [
       "prac_code    0\n",
       "z_score      0\n",
       "name         0\n",
       "n_script     0\n",
       "dtype: int64"
      ]
     },
     "execution_count": 47,
     "metadata": {},
     "output_type": "execute_result"
    }
   ],
   "source": [
    "opioid_scores.isnull().sum()"
   ]
  },
  {
   "cell_type": "code",
   "execution_count": 48,
   "metadata": {},
   "outputs": [
    {
     "data": {
      "text/plain": [
       "[('NATIONAL ENHANCED SERVICE', 11.695823871932637, 7),\n",
       " ('OUTREACH SERVICE NH / RH', 7.339046789841713, 2),\n",
       " ('BRISDOC HEALTHCARE SERVICES OOH', 6.150584909087287, 60),\n",
       " ('H&R P C SPECIAL SCHEME', 5.123035046109328, 36),\n",
       " ('HMR BARDOC OOH', 4.958868986219792, 321)]"
      ]
     },
     "execution_count": 48,
     "metadata": {},
     "output_type": "execute_result"
    }
   ],
   "source": [
    "anomalies = [(results.iloc[row, 1], results.iloc[row, 0], results.iloc[row, 2]) for row in range(results.shape[0])]\n",
    "anomalies[:5]"
   ]
  },
  {
   "cell_type": "code",
   "execution_count": 49,
   "metadata": {},
   "outputs": [
    {
     "name": "stdout",
     "output_type": "stream",
     "text": [
      "==================\n",
      "Your score:  1.0\n",
      "==================\n"
     ]
    }
   ],
   "source": [
    "grader.score.dw__script_anomalies(anomalies)"
   ]
  },
  {
   "cell_type": "markdown",
   "metadata": {},
   "source": [
    "## Question 5: script_growth\n",
    "\n",
    "Another way to identify anomalies is by comparing current data to historical data. In the case of identifying sites of drug abuse, we might compare a practice's current rate of opioid prescription to their rate 5 or 10 years ago. Unless the nature of the practice has changed, the profile of drugs they prescribe should be relatively stable. We might also want to identify trends through time for business reasons, identifying drugs that are gaining market share. That's what we'll do in this question.\n",
    "\n",
    "We'll load in beneficiary data from 6 months earlier, June 2016, and calculate the percent growth in prescription rate from June 2016 to January 2017 for each `bnf_name`. We'll return the 50 items with largest growth and the 50 items with the largest shrinkage (i.e. negative percent growth) as a list of tuples sorted by growth rate in descending order in the format `(script_name, growth_rate, raw_2016_count)`. You'll notice that many of the 50 fastest growing items have low counts of prescriptions in 2016. Filter out any items that were prescribed less than 50 times."
   ]
  },
  {
   "cell_type": "code",
   "execution_count": 50,
   "metadata": {},
   "outputs": [
    {
     "data": {
      "text/html": [
       "<div>\n",
       "<style scoped>\n",
       "    .dataframe tbody tr th:only-of-type {\n",
       "        vertical-align: middle;\n",
       "    }\n",
       "\n",
       "    .dataframe tbody tr th {\n",
       "        vertical-align: top;\n",
       "    }\n",
       "\n",
       "    .dataframe thead th {\n",
       "        text-align: right;\n",
       "    }\n",
       "</style>\n",
       "<table border=\"1\" class=\"dataframe\">\n",
       "  <thead>\n",
       "    <tr style=\"text-align: right;\">\n",
       "      <th></th>\n",
       "      <th>practice</th>\n",
       "      <th>bnf_code</th>\n",
       "      <th>bnf_name</th>\n",
       "      <th>items</th>\n",
       "      <th>nic</th>\n",
       "      <th>act_cost</th>\n",
       "      <th>quantity</th>\n",
       "    </tr>\n",
       "  </thead>\n",
       "  <tbody>\n",
       "    <tr>\n",
       "      <th>0</th>\n",
       "      <td>N85638</td>\n",
       "      <td>0301011R0</td>\n",
       "      <td>Salamol_Inha 100mcg (200 D) CFF (Teva)</td>\n",
       "      <td>2</td>\n",
       "      <td>2.92</td>\n",
       "      <td>2.73</td>\n",
       "      <td>2</td>\n",
       "    </tr>\n",
       "    <tr>\n",
       "      <th>1</th>\n",
       "      <td>N85638</td>\n",
       "      <td>0301011R0</td>\n",
       "      <td>Easyhaler_Salbutamol Sulf 200mcg (200D)</td>\n",
       "      <td>1</td>\n",
       "      <td>6.63</td>\n",
       "      <td>6.15</td>\n",
       "      <td>1</td>\n",
       "    </tr>\n",
       "    <tr>\n",
       "      <th>2</th>\n",
       "      <td>N85638</td>\n",
       "      <td>0301020I0</td>\n",
       "      <td>Ipratrop Brom_Inh Soln 500mcg/2ml Ud</td>\n",
       "      <td>1</td>\n",
       "      <td>1.77</td>\n",
       "      <td>1.75</td>\n",
       "      <td>12</td>\n",
       "    </tr>\n",
       "    <tr>\n",
       "      <th>3</th>\n",
       "      <td>N85638</td>\n",
       "      <td>0301020I0</td>\n",
       "      <td>Ipratrop Brom_Inh Soln 250mcg/1ml Ud</td>\n",
       "      <td>1</td>\n",
       "      <td>4.47</td>\n",
       "      <td>4.15</td>\n",
       "      <td>20</td>\n",
       "    </tr>\n",
       "    <tr>\n",
       "      <th>4</th>\n",
       "      <td>N85638</td>\n",
       "      <td>0302000C0</td>\n",
       "      <td>Clenil Modulite_Inha 50mcg (200D)</td>\n",
       "      <td>1</td>\n",
       "      <td>3.70</td>\n",
       "      <td>3.44</td>\n",
       "      <td>1</td>\n",
       "    </tr>\n",
       "  </tbody>\n",
       "</table>\n",
       "</div>"
      ],
      "text/plain": [
       "  practice   bnf_code                                 bnf_name  items   nic  \\\n",
       "0   N85638  0301011R0   Salamol_Inha 100mcg (200 D) CFF (Teva)      2  2.92   \n",
       "1   N85638  0301011R0  Easyhaler_Salbutamol Sulf 200mcg (200D)      1  6.63   \n",
       "2   N85638  0301020I0     Ipratrop Brom_Inh Soln 500mcg/2ml Ud      1  1.77   \n",
       "3   N85638  0301020I0     Ipratrop Brom_Inh Soln 250mcg/1ml Ud      1  4.47   \n",
       "4   N85638  0302000C0        Clenil Modulite_Inha 50mcg (200D)      1  3.70   \n",
       "\n",
       "   act_cost  quantity  \n",
       "0      2.73         2  \n",
       "1      6.15         1  \n",
       "2      1.75        12  \n",
       "3      4.15        20  \n",
       "4      3.44         1  "
      ]
     },
     "execution_count": 50,
     "metadata": {},
     "output_type": "execute_result"
    }
   ],
   "source": [
    "scripts16 = pd.read_csv('dw-data/201606scripts_sample.csv.gz')\n",
    "scripts16.head()"
   ]
  },
  {
   "cell_type": "code",
   "execution_count": null,
   "metadata": {},
   "outputs": [],
   "source": []
  },
  {
   "cell_type": "code",
   "execution_count": 51,
   "metadata": {},
   "outputs": [],
   "source": [
    "scripts16_copy = scripts16.copy()\n",
    "bnf_rate16 = scripts16_copy.groupby('bnf_name').count()['items']\n",
    "bnf_rate17 = joined.groupby('bnf_name').count()['items']"
   ]
  },
  {
   "cell_type": "code",
   "execution_count": 52,
   "metadata": {},
   "outputs": [],
   "source": [
    "bnf_rate16 = bnf_rate16[bnf_rate16 >= 50]"
   ]
  },
  {
   "cell_type": "code",
   "execution_count": 53,
   "metadata": {},
   "outputs": [
    {
     "data": {
      "text/html": [
       "<div>\n",
       "<style scoped>\n",
       "    .dataframe tbody tr th:only-of-type {\n",
       "        vertical-align: middle;\n",
       "    }\n",
       "\n",
       "    .dataframe tbody tr th {\n",
       "        vertical-align: top;\n",
       "    }\n",
       "\n",
       "    .dataframe thead th {\n",
       "        text-align: right;\n",
       "    }\n",
       "</style>\n",
       "<table border=\"1\" class=\"dataframe\">\n",
       "  <thead>\n",
       "    <tr style=\"text-align: right;\">\n",
       "      <th></th>\n",
       "      <th>bnf_name</th>\n",
       "      <th>items_x</th>\n",
       "      <th>items_y</th>\n",
       "    </tr>\n",
       "  </thead>\n",
       "  <tbody>\n",
       "    <tr>\n",
       "      <th>0</th>\n",
       "      <td>3m Health Care_Cavilon Durable Barrier C</td>\n",
       "      <td>825</td>\n",
       "      <td>816.0</td>\n",
       "    </tr>\n",
       "    <tr>\n",
       "      <th>1</th>\n",
       "      <td>3m Health Care_Cavilon No Sting 1ml Barr</td>\n",
       "      <td>231</td>\n",
       "      <td>223.0</td>\n",
       "    </tr>\n",
       "    <tr>\n",
       "      <th>2</th>\n",
       "      <td>3m Health Care_Cavilon No Sting 3ml Barr</td>\n",
       "      <td>105</td>\n",
       "      <td>94.0</td>\n",
       "    </tr>\n",
       "    <tr>\n",
       "      <th>3</th>\n",
       "      <td>3m Health Care_Cavilon No Sting Barrier</td>\n",
       "      <td>454</td>\n",
       "      <td>412.0</td>\n",
       "    </tr>\n",
       "    <tr>\n",
       "      <th>4</th>\n",
       "      <td>A.S Saliva Orthana Spy 50ml (App)</td>\n",
       "      <td>84</td>\n",
       "      <td>121.0</td>\n",
       "    </tr>\n",
       "  </tbody>\n",
       "</table>\n",
       "</div>"
      ],
      "text/plain": [
       "                                   bnf_name  items_x  items_y\n",
       "0  3m Health Care_Cavilon Durable Barrier C      825    816.0\n",
       "1  3m Health Care_Cavilon No Sting 1ml Barr      231    223.0\n",
       "2  3m Health Care_Cavilon No Sting 3ml Barr      105     94.0\n",
       "3   3m Health Care_Cavilon No Sting Barrier      454    412.0\n",
       "4         A.S Saliva Orthana Spy 50ml (App)       84    121.0"
      ]
     },
     "execution_count": 53,
     "metadata": {},
     "output_type": "execute_result"
    }
   ],
   "source": [
    "bnf_16_17_df = pd.merge(bnf_rate16.reset_index(), bnf_rate17.reset_index(), how='left', on='bnf_name')\n",
    "bnf_16_17_df.head()"
   ]
  },
  {
   "cell_type": "code",
   "execution_count": 54,
   "metadata": {},
   "outputs": [
    {
     "data": {
      "text/plain": [
       "bnf_name     0\n",
       "items_x      0\n",
       "items_y     34\n",
       "dtype: int64"
      ]
     },
     "execution_count": 54,
     "metadata": {},
     "output_type": "execute_result"
    }
   ],
   "source": [
    "bnf_16_17_df.isnull().sum()"
   ]
  },
  {
   "cell_type": "code",
   "execution_count": 55,
   "metadata": {},
   "outputs": [
    {
     "data": {
      "text/plain": [
       "bnf_name    0\n",
       "items_x     0\n",
       "items_y     0\n",
       "dtype: int64"
      ]
     },
     "execution_count": 55,
     "metadata": {},
     "output_type": "execute_result"
    }
   ],
   "source": [
    "bnf_16_17_df.dropna(axis=0, inplace=True)\n",
    "bnf_16_17_df.isnull().sum()"
   ]
  },
  {
   "cell_type": "code",
   "execution_count": 56,
   "metadata": {},
   "outputs": [
    {
     "data": {
      "text/html": [
       "<div>\n",
       "<style scoped>\n",
       "    .dataframe tbody tr th:only-of-type {\n",
       "        vertical-align: middle;\n",
       "    }\n",
       "\n",
       "    .dataframe tbody tr th {\n",
       "        vertical-align: top;\n",
       "    }\n",
       "\n",
       "    .dataframe thead th {\n",
       "        text-align: right;\n",
       "    }\n",
       "</style>\n",
       "<table border=\"1\" class=\"dataframe\">\n",
       "  <thead>\n",
       "    <tr style=\"text-align: right;\">\n",
       "      <th></th>\n",
       "      <th>bnf_name</th>\n",
       "      <th>items_x</th>\n",
       "      <th>items_y</th>\n",
       "      <th>diff_rate</th>\n",
       "    </tr>\n",
       "  </thead>\n",
       "  <tbody>\n",
       "    <tr>\n",
       "      <th>0</th>\n",
       "      <td>3m Health Care_Cavilon Durable Barrier C</td>\n",
       "      <td>825</td>\n",
       "      <td>816.0</td>\n",
       "      <td>-0.010909</td>\n",
       "    </tr>\n",
       "    <tr>\n",
       "      <th>1</th>\n",
       "      <td>3m Health Care_Cavilon No Sting 1ml Barr</td>\n",
       "      <td>231</td>\n",
       "      <td>223.0</td>\n",
       "      <td>-0.034632</td>\n",
       "    </tr>\n",
       "    <tr>\n",
       "      <th>2</th>\n",
       "      <td>3m Health Care_Cavilon No Sting 3ml Barr</td>\n",
       "      <td>105</td>\n",
       "      <td>94.0</td>\n",
       "      <td>-0.104762</td>\n",
       "    </tr>\n",
       "    <tr>\n",
       "      <th>3</th>\n",
       "      <td>3m Health Care_Cavilon No Sting Barrier</td>\n",
       "      <td>454</td>\n",
       "      <td>412.0</td>\n",
       "      <td>-0.092511</td>\n",
       "    </tr>\n",
       "    <tr>\n",
       "      <th>4</th>\n",
       "      <td>A.S Saliva Orthana Spy 50ml (App)</td>\n",
       "      <td>84</td>\n",
       "      <td>121.0</td>\n",
       "      <td>0.440476</td>\n",
       "    </tr>\n",
       "  </tbody>\n",
       "</table>\n",
       "</div>"
      ],
      "text/plain": [
       "                                   bnf_name  items_x  items_y  diff_rate\n",
       "0  3m Health Care_Cavilon Durable Barrier C      825    816.0  -0.010909\n",
       "1  3m Health Care_Cavilon No Sting 1ml Barr      231    223.0  -0.034632\n",
       "2  3m Health Care_Cavilon No Sting 3ml Barr      105     94.0  -0.104762\n",
       "3   3m Health Care_Cavilon No Sting Barrier      454    412.0  -0.092511\n",
       "4         A.S Saliva Orthana Spy 50ml (App)       84    121.0   0.440476"
      ]
     },
     "execution_count": 56,
     "metadata": {},
     "output_type": "execute_result"
    }
   ],
   "source": [
    "bnf_16_17_df['diff_rate'] = (bnf_16_17_df['items_y'] - bnf_16_17_df['items_x']) / bnf_16_17_df['items_x']\n",
    "bnf_16_17_df.head()"
   ]
  },
  {
   "cell_type": "code",
   "execution_count": 57,
   "metadata": {},
   "outputs": [
    {
     "data": {
      "text/plain": [
       "bnf_name     0\n",
       "items_x      0\n",
       "items_y      0\n",
       "diff_rate    0\n",
       "dtype: int64"
      ]
     },
     "execution_count": 57,
     "metadata": {},
     "output_type": "execute_result"
    }
   ],
   "source": [
    "bnf_16_17_df.isnull().sum()"
   ]
  },
  {
   "cell_type": "code",
   "execution_count": 58,
   "metadata": {},
   "outputs": [],
   "source": [
    "bnf_16_17_df.sort_values(by='diff_rate', ascending=False, inplace=True)"
   ]
  },
  {
   "cell_type": "code",
   "execution_count": 59,
   "metadata": {},
   "outputs": [
    {
     "data": {
      "text/html": [
       "<div>\n",
       "<style scoped>\n",
       "    .dataframe tbody tr th:only-of-type {\n",
       "        vertical-align: middle;\n",
       "    }\n",
       "\n",
       "    .dataframe tbody tr th {\n",
       "        vertical-align: top;\n",
       "    }\n",
       "\n",
       "    .dataframe thead th {\n",
       "        text-align: right;\n",
       "    }\n",
       "</style>\n",
       "<table border=\"1\" class=\"dataframe\">\n",
       "  <thead>\n",
       "    <tr style=\"text-align: right;\">\n",
       "      <th></th>\n",
       "      <th>bnf_name</th>\n",
       "      <th>items_x</th>\n",
       "      <th>items_y</th>\n",
       "      <th>diff_rate</th>\n",
       "    </tr>\n",
       "  </thead>\n",
       "  <tbody>\n",
       "    <tr>\n",
       "      <th>433</th>\n",
       "      <td>Butec_Transdermal Patch 5mcg/hr</td>\n",
       "      <td>62</td>\n",
       "      <td>277.0</td>\n",
       "      <td>3.467742</td>\n",
       "    </tr>\n",
       "    <tr>\n",
       "      <th>432</th>\n",
       "      <td>Butec_Transdermal Patch 10mcg/hr</td>\n",
       "      <td>69</td>\n",
       "      <td>276.0</td>\n",
       "      <td>3.000000</td>\n",
       "    </tr>\n",
       "    <tr>\n",
       "      <th>1419</th>\n",
       "      <td>Fostair NEXThaler_Inh 200mcg/6mcg (120D)</td>\n",
       "      <td>86</td>\n",
       "      <td>209.0</td>\n",
       "      <td>1.430233</td>\n",
       "    </tr>\n",
       "    <tr>\n",
       "      <th>2636</th>\n",
       "      <td>Pneumococcal_Vac 0.5ml Vl (23 Valent)</td>\n",
       "      <td>193</td>\n",
       "      <td>438.0</td>\n",
       "      <td>1.269430</td>\n",
       "    </tr>\n",
       "    <tr>\n",
       "      <th>3063</th>\n",
       "      <td>Spiolto Respimat_Inha2.5/2.5mcg(60D)+Dev</td>\n",
       "      <td>52</td>\n",
       "      <td>118.0</td>\n",
       "      <td>1.269231</td>\n",
       "    </tr>\n",
       "  </tbody>\n",
       "</table>\n",
       "</div>"
      ],
      "text/plain": [
       "                                      bnf_name  items_x  items_y  diff_rate\n",
       "433            Butec_Transdermal Patch 5mcg/hr       62    277.0   3.467742\n",
       "432           Butec_Transdermal Patch 10mcg/hr       69    276.0   3.000000\n",
       "1419  Fostair NEXThaler_Inh 200mcg/6mcg (120D)       86    209.0   1.430233\n",
       "2636     Pneumococcal_Vac 0.5ml Vl (23 Valent)      193    438.0   1.269430\n",
       "3063  Spiolto Respimat_Inha2.5/2.5mcg(60D)+Dev       52    118.0   1.269231"
      ]
     },
     "execution_count": 59,
     "metadata": {},
     "output_type": "execute_result"
    }
   ],
   "source": [
    "bnf_16_17_df.head()"
   ]
  },
  {
   "cell_type": "code",
   "execution_count": 60,
   "metadata": {},
   "outputs": [],
   "source": [
    "top_50 = bnf_16_17_df.iloc[:50, [0, 1, 3]]\n",
    "bottom_50 = bnf_16_17_df.iloc[-50:, [0, 1, 3]]"
   ]
  },
  {
   "cell_type": "code",
   "execution_count": 61,
   "metadata": {},
   "outputs": [
    {
     "data": {
      "text/plain": [
       "(100, 3)"
      ]
     },
     "execution_count": 61,
     "metadata": {},
     "output_type": "execute_result"
    }
   ],
   "source": [
    "top_bottom = pd.concat([top_50, bottom_50])\n",
    "top_bottom.shape"
   ]
  },
  {
   "cell_type": "code",
   "execution_count": 62,
   "metadata": {},
   "outputs": [
    {
     "data": {
      "text/plain": [
       "bnf_name     0\n",
       "items_x      0\n",
       "diff_rate    0\n",
       "dtype: int64"
      ]
     },
     "execution_count": 62,
     "metadata": {},
     "output_type": "execute_result"
    }
   ],
   "source": [
    "top_bottom.isnull().sum()"
   ]
  },
  {
   "cell_type": "code",
   "execution_count": 63,
   "metadata": {},
   "outputs": [],
   "source": [
    "script_growth = [(top_bottom['bnf_name'].iloc[i], top_bottom['diff_rate'].iloc[i], top_bottom['items_x'].iloc[i]) for i in \\\n",
    "                 range(top_bottom.shape[0])]"
   ]
  },
  {
   "cell_type": "code",
   "execution_count": 64,
   "metadata": {},
   "outputs": [
    {
     "data": {
      "text/plain": [
       "[('Butec_Transdermal Patch 5mcg/hr', 3.467741935483871, 62),\n",
       " ('Butec_Transdermal Patch 10mcg/hr', 3.0, 69),\n",
       " ('Fostair NEXThaler_Inh 200mcg/6mcg (120D)', 1.430232558139535, 86),\n",
       " ('Pneumococcal_Vac 0.5ml Vl (23 Valent)', 1.2694300518134716, 193),\n",
       " ('Spiolto Respimat_Inha2.5/2.5mcg(60D)+Dev', 1.2692307692307692, 52)]"
      ]
     },
     "execution_count": 64,
     "metadata": {},
     "output_type": "execute_result"
    }
   ],
   "source": [
    "script_growth[:5]"
   ]
  },
  {
   "cell_type": "code",
   "execution_count": 65,
   "metadata": {},
   "outputs": [],
   "source": [
    "#script_growth = [(\"Butec_Transdermal Patch 5mcg\\/hr\", 3.4677419355, 62.0)] * 100"
   ]
  },
  {
   "cell_type": "code",
   "execution_count": 66,
   "metadata": {},
   "outputs": [
    {
     "name": "stdout",
     "output_type": "stream",
     "text": [
      "==================\n",
      "Your score:  1.0\n",
      "==================\n"
     ]
    }
   ],
   "source": [
    "grader.score.dw__script_growth(script_growth)"
   ]
  },
  {
   "cell_type": "markdown",
   "metadata": {},
   "source": [
    "## Question 6: rare_scripts\n",
    "\n",
    "Does a practice's prescription costs originate from routine care or from reliance on rarely prescribed treatments? Commonplace treatments can carry lower costs than rare treatments because of efficiencies in large-scale production. While some specialist practices can't help but avoid prescribing rare medicines because there are no alternatives, some practices may be prescribing a unnecessary amount of brand-name products when generics are available. Let's identify practices whose costs disproportionately originate from rarely prescribed items.\n",
    "\n",
    "First we have to identify which `'bnf_code'` are rare. To do this, find the probability $p$ of a prescription having a particular `'bnf_code'` if the `'bnf_code'` was randomly chosen from the unique options in the beneficiary data. We will call a `'bnf_code'` rare if it is prescribed at a rate less than $0.1p$."
   ]
  },
  {
   "cell_type": "code",
   "execution_count": null,
   "metadata": {},
   "outputs": [],
   "source": [
    "\n"
   ]
  },
  {
   "cell_type": "code",
   "execution_count": 67,
   "metadata": {},
   "outputs": [
    {
     "data": {
      "text/html": [
       "<div>\n",
       "<style scoped>\n",
       "    .dataframe tbody tr th:only-of-type {\n",
       "        vertical-align: middle;\n",
       "    }\n",
       "\n",
       "    .dataframe tbody tr th {\n",
       "        vertical-align: top;\n",
       "    }\n",
       "\n",
       "    .dataframe thead th {\n",
       "        text-align: right;\n",
       "    }\n",
       "</style>\n",
       "<table border=\"1\" class=\"dataframe\">\n",
       "  <thead>\n",
       "    <tr style=\"text-align: right;\">\n",
       "      <th></th>\n",
       "      <th>prac_code</th>\n",
       "      <th>bnf_code</th>\n",
       "      <th>bnf_name</th>\n",
       "      <th>items</th>\n",
       "      <th>nic</th>\n",
       "      <th>act_cost</th>\n",
       "      <th>quantity</th>\n",
       "      <th>post_code</th>\n",
       "      <th>is_opioids</th>\n",
       "      <th>is_rare</th>\n",
       "    </tr>\n",
       "  </thead>\n",
       "  <tbody>\n",
       "    <tr>\n",
       "      <th>0</th>\n",
       "      <td>N85639</td>\n",
       "      <td>0106020C0</td>\n",
       "      <td>Bisacodyl_Tab E/C 5mg</td>\n",
       "      <td>1</td>\n",
       "      <td>0.39</td>\n",
       "      <td>0.47</td>\n",
       "      <td>12</td>\n",
       "      <td>CH44 5UF</td>\n",
       "      <td>0.0</td>\n",
       "      <td>0.0</td>\n",
       "    </tr>\n",
       "    <tr>\n",
       "      <th>1</th>\n",
       "      <td>N85639</td>\n",
       "      <td>0106040M0</td>\n",
       "      <td>Movicol Plain_Paed Pdr Sach 6.9g</td>\n",
       "      <td>1</td>\n",
       "      <td>4.38</td>\n",
       "      <td>4.07</td>\n",
       "      <td>30</td>\n",
       "      <td>CH44 5UF</td>\n",
       "      <td>0.0</td>\n",
       "      <td>0.0</td>\n",
       "    </tr>\n",
       "    <tr>\n",
       "      <th>2</th>\n",
       "      <td>N85639</td>\n",
       "      <td>0301011R0</td>\n",
       "      <td>Salbutamol_Inha 100mcg (200 D) CFF</td>\n",
       "      <td>1</td>\n",
       "      <td>1.50</td>\n",
       "      <td>1.40</td>\n",
       "      <td>1</td>\n",
       "      <td>CH44 5UF</td>\n",
       "      <td>0.0</td>\n",
       "      <td>0.0</td>\n",
       "    </tr>\n",
       "    <tr>\n",
       "      <th>3</th>\n",
       "      <td>N85639</td>\n",
       "      <td>0304010G0</td>\n",
       "      <td>Chlorphenamine Mal_Oral Soln 2mg/5ml</td>\n",
       "      <td>1</td>\n",
       "      <td>2.62</td>\n",
       "      <td>2.44</td>\n",
       "      <td>150</td>\n",
       "      <td>CH44 5UF</td>\n",
       "      <td>0.0</td>\n",
       "      <td>0.0</td>\n",
       "    </tr>\n",
       "    <tr>\n",
       "      <th>4</th>\n",
       "      <td>N85639</td>\n",
       "      <td>0401020K0</td>\n",
       "      <td>Diazepam_Tab 2mg</td>\n",
       "      <td>1</td>\n",
       "      <td>0.16</td>\n",
       "      <td>0.26</td>\n",
       "      <td>6</td>\n",
       "      <td>CH44 5UF</td>\n",
       "      <td>0.0</td>\n",
       "      <td>0.0</td>\n",
       "    </tr>\n",
       "  </tbody>\n",
       "</table>\n",
       "</div>"
      ],
      "text/plain": [
       "  prac_code   bnf_code                              bnf_name  items   nic  \\\n",
       "0    N85639  0106020C0                 Bisacodyl_Tab E/C 5mg      1  0.39   \n",
       "1    N85639  0106040M0      Movicol Plain_Paed Pdr Sach 6.9g      1  4.38   \n",
       "2    N85639  0301011R0    Salbutamol_Inha 100mcg (200 D) CFF      1  1.50   \n",
       "3    N85639  0304010G0  Chlorphenamine Mal_Oral Soln 2mg/5ml      1  2.62   \n",
       "4    N85639  0401020K0                      Diazepam_Tab 2mg      1  0.16   \n",
       "\n",
       "   act_cost  quantity post_code  is_opioids  is_rare  \n",
       "0      0.47        12  CH44 5UF         0.0      0.0  \n",
       "1      4.07        30  CH44 5UF         0.0      0.0  \n",
       "2      1.40         1  CH44 5UF         0.0      0.0  \n",
       "3      2.44       150  CH44 5UF         0.0      0.0  \n",
       "4      0.26         6  CH44 5UF         0.0      0.0  "
      ]
     },
     "execution_count": 67,
     "metadata": {},
     "output_type": "execute_result"
    }
   ],
   "source": [
    "p = 1 / len(joined['bnf_code'].unique())\n",
    "grp_by_bnf_code = joined.groupby('bnf_code').count()[['items']]\n",
    "grp_by_bnf_code.reset_index(inplace=True)\n",
    "grp_by_bnf_code['rates'] = grp_by_bnf_code['items'] / grp_by_bnf_code['items'].sum()\n",
    "\n",
    "rare_codes = grp_by_bnf_code[grp_by_bnf_code['rates'] < 0.1*p]['bnf_code']\n",
    "\n",
    "joined['is_rare'] = [float(i) for i in joined['bnf_code'].isin(rare_codes)]\n",
    "joined.head()"
   ]
  },
  {
   "cell_type": "markdown",
   "metadata": {},
   "source": [
    "Now for each practice, calculate the proportion of costs that originate from prescription of rare treatments (i.e. rare `'bnf_code'`). Use the `'act_cost'` field for this calculation."
   ]
  },
  {
   "cell_type": "code",
   "execution_count": 68,
   "metadata": {},
   "outputs": [],
   "source": [
    "def get_rare_cost(mini_df):\n",
    "    rare_cost = mini_df[mini_df['is_rare'] == 1]['act_cost'].sum()\n",
    "    df = pd.DataFrame({'rare_cost_sum': [rare_cost], 'act_cost_sum': [mini_df['act_cost'].sum()]})\n",
    "    return df.iloc[0]"
   ]
  },
  {
   "cell_type": "code",
   "execution_count": null,
   "metadata": {},
   "outputs": [],
   "source": []
  },
  {
   "cell_type": "code",
   "execution_count": 69,
   "metadata": {},
   "outputs": [],
   "source": [
    "rare_cost_prop = joined.groupby('prac_code').apply(get_rare_cost)"
   ]
  },
  {
   "cell_type": "code",
   "execution_count": 70,
   "metadata": {},
   "outputs": [
    {
     "data": {
      "text/html": [
       "<div>\n",
       "<style scoped>\n",
       "    .dataframe tbody tr th:only-of-type {\n",
       "        vertical-align: middle;\n",
       "    }\n",
       "\n",
       "    .dataframe tbody tr th {\n",
       "        vertical-align: top;\n",
       "    }\n",
       "\n",
       "    .dataframe thead th {\n",
       "        text-align: right;\n",
       "    }\n",
       "</style>\n",
       "<table border=\"1\" class=\"dataframe\">\n",
       "  <thead>\n",
       "    <tr style=\"text-align: right;\">\n",
       "      <th></th>\n",
       "      <th>rare_cost_sum</th>\n",
       "      <th>act_cost_sum</th>\n",
       "      <th>rare_cost_prop</th>\n",
       "    </tr>\n",
       "    <tr>\n",
       "      <th>prac_code</th>\n",
       "      <th></th>\n",
       "      <th></th>\n",
       "      <th></th>\n",
       "    </tr>\n",
       "  </thead>\n",
       "  <tbody>\n",
       "    <tr>\n",
       "      <th>A81005</th>\n",
       "      <td>1247.83</td>\n",
       "      <td>103840.82</td>\n",
       "      <td>0.012017</td>\n",
       "    </tr>\n",
       "    <tr>\n",
       "      <th>A81007</th>\n",
       "      <td>951.06</td>\n",
       "      <td>113482.49</td>\n",
       "      <td>0.008381</td>\n",
       "    </tr>\n",
       "    <tr>\n",
       "      <th>A81011</th>\n",
       "      <td>816.02</td>\n",
       "      <td>159507.03</td>\n",
       "      <td>0.005116</td>\n",
       "    </tr>\n",
       "    <tr>\n",
       "      <th>A81012</th>\n",
       "      <td>1145.11</td>\n",
       "      <td>83296.81</td>\n",
       "      <td>0.013747</td>\n",
       "    </tr>\n",
       "    <tr>\n",
       "      <th>A81017</th>\n",
       "      <td>1712.15</td>\n",
       "      <td>232656.17</td>\n",
       "      <td>0.007359</td>\n",
       "    </tr>\n",
       "  </tbody>\n",
       "</table>\n",
       "</div>"
      ],
      "text/plain": [
       "0          rare_cost_sum  act_cost_sum  rare_cost_prop\n",
       "prac_code                                             \n",
       "A81005           1247.83     103840.82        0.012017\n",
       "A81007            951.06     113482.49        0.008381\n",
       "A81011            816.02     159507.03        0.005116\n",
       "A81012           1145.11      83296.81        0.013747\n",
       "A81017           1712.15     232656.17        0.007359"
      ]
     },
     "execution_count": 70,
     "metadata": {},
     "output_type": "execute_result"
    }
   ],
   "source": [
    "rare_cost_prop['rare_cost_prop'] = rare_cost_prop['rare_cost_sum'] / rare_cost_prop['act_cost_sum']\n",
    "rare_cost_prop.head()"
   ]
  },
  {
   "cell_type": "markdown",
   "metadata": {},
   "source": [
    "Now we will calculate a z-score for each practice based on this proportion.\n",
    "First take the difference of `rare_cost_prop` and the proportion of costs originating from rare treatments across all practices."
   ]
  },
  {
   "cell_type": "code",
   "execution_count": 71,
   "metadata": {},
   "outputs": [
    {
     "data": {
      "text/plain": [
       "prac_code\n",
       "A81005   -0.003946\n",
       "A81007   -0.007582\n",
       "A81011   -0.010847\n",
       "A81012   -0.002216\n",
       "A81017   -0.008604\n",
       "Name: rare_cost_prop, dtype: float64"
      ]
     },
     "execution_count": 71,
     "metadata": {},
     "output_type": "execute_result"
    }
   ],
   "source": [
    "relative_rare_cost_prop = rare_cost_prop['rare_cost_prop'] - \\\n",
    "(joined[joined['is_rare'] == 1]['act_cost'].sum() / joined['act_cost'].sum())\n",
    "\n",
    "relative_rare_cost_prop.head()"
   ]
  },
  {
   "cell_type": "markdown",
   "metadata": {},
   "source": [
    "Now we will estimate the standard errors (i.e. the denominator of the z-score) by simply taking the standard deviation of this difference."
   ]
  },
  {
   "cell_type": "code",
   "execution_count": 72,
   "metadata": {},
   "outputs": [
    {
     "data": {
      "text/plain": [
       "0.060473532762903806"
      ]
     },
     "execution_count": 72,
     "metadata": {},
     "output_type": "execute_result"
    }
   ],
   "source": [
    "standard_errors = np.std(relative_rare_cost_prop)\n",
    "standard_errors"
   ]
  },
  {
   "cell_type": "markdown",
   "metadata": {},
   "source": [
    "Finally compute the z-scores. Return the practices with the top 100 z-scores in the form `(post_code, practice_name, z-score)`. Note that some practice codes will correspond with multiple names. In this case, use the first match when sorting names alphabetically."
   ]
  },
  {
   "cell_type": "code",
   "execution_count": 73,
   "metadata": {},
   "outputs": [],
   "source": [
    "rare_scores = relative_rare_cost_prop / standard_errors"
   ]
  },
  {
   "cell_type": "code",
   "execution_count": 74,
   "metadata": {},
   "outputs": [
    {
     "data": {
      "text/html": [
       "<div>\n",
       "<style scoped>\n",
       "    .dataframe tbody tr th:only-of-type {\n",
       "        vertical-align: middle;\n",
       "    }\n",
       "\n",
       "    .dataframe tbody tr th {\n",
       "        vertical-align: top;\n",
       "    }\n",
       "\n",
       "    .dataframe thead th {\n",
       "        text-align: right;\n",
       "    }\n",
       "</style>\n",
       "<table border=\"1\" class=\"dataframe\">\n",
       "  <thead>\n",
       "    <tr style=\"text-align: right;\">\n",
       "      <th></th>\n",
       "      <th>prac_code</th>\n",
       "      <th>rare_score</th>\n",
       "    </tr>\n",
       "  </thead>\n",
       "  <tbody>\n",
       "    <tr>\n",
       "      <th>0</th>\n",
       "      <td>A81005</td>\n",
       "      <td>-0.065254</td>\n",
       "    </tr>\n",
       "    <tr>\n",
       "      <th>1</th>\n",
       "      <td>A81007</td>\n",
       "      <td>-0.125381</td>\n",
       "    </tr>\n",
       "    <tr>\n",
       "      <th>2</th>\n",
       "      <td>A81011</td>\n",
       "      <td>-0.179368</td>\n",
       "    </tr>\n",
       "    <tr>\n",
       "      <th>3</th>\n",
       "      <td>A81012</td>\n",
       "      <td>-0.036637</td>\n",
       "    </tr>\n",
       "    <tr>\n",
       "      <th>4</th>\n",
       "      <td>A81017</td>\n",
       "      <td>-0.142273</td>\n",
       "    </tr>\n",
       "  </tbody>\n",
       "</table>\n",
       "</div>"
      ],
      "text/plain": [
       "  prac_code  rare_score\n",
       "0    A81005   -0.065254\n",
       "1    A81007   -0.125381\n",
       "2    A81011   -0.179368\n",
       "3    A81012   -0.036637\n",
       "4    A81017   -0.142273"
      ]
     },
     "execution_count": 74,
     "metadata": {},
     "output_type": "execute_result"
    }
   ],
   "source": [
    "rare_scores.name = 'rare_score'\n",
    "rare_scores.reset_index().head()"
   ]
  },
  {
   "cell_type": "code",
   "execution_count": null,
   "metadata": {},
   "outputs": [],
   "source": []
  },
  {
   "cell_type": "code",
   "execution_count": 75,
   "metadata": {},
   "outputs": [],
   "source": [
    "practice_copy3 = practices.copy()\n",
    "practice_copy3.rename(columns={'code': 'prac_code'}, inplace=True)"
   ]
  },
  {
   "cell_type": "code",
   "execution_count": 76,
   "metadata": {},
   "outputs": [],
   "source": [
    "practice_copy3 = practice_copy3.groupby('prac_code').apply(lambda x: x.sort_values(by='name').iloc[0])"
   ]
  },
  {
   "cell_type": "code",
   "execution_count": 77,
   "metadata": {},
   "outputs": [
    {
     "data": {
      "text/html": [
       "<div>\n",
       "<style scoped>\n",
       "    .dataframe tbody tr th:only-of-type {\n",
       "        vertical-align: middle;\n",
       "    }\n",
       "\n",
       "    .dataframe tbody tr th {\n",
       "        vertical-align: top;\n",
       "    }\n",
       "\n",
       "    .dataframe thead th {\n",
       "        text-align: right;\n",
       "    }\n",
       "</style>\n",
       "<table border=\"1\" class=\"dataframe\">\n",
       "  <thead>\n",
       "    <tr style=\"text-align: right;\">\n",
       "      <th></th>\n",
       "      <th>prac_code</th>\n",
       "      <th>name</th>\n",
       "      <th>addr_1</th>\n",
       "      <th>addr_2</th>\n",
       "      <th>borough</th>\n",
       "      <th>village</th>\n",
       "      <th>post_code</th>\n",
       "    </tr>\n",
       "  </thead>\n",
       "  <tbody>\n",
       "    <tr>\n",
       "      <th>0</th>\n",
       "      <td>A81001</td>\n",
       "      <td>THE DENSHAM SURGERY</td>\n",
       "      <td>THE HEALTH CENTRE</td>\n",
       "      <td>LAWSON STREET</td>\n",
       "      <td>STOCKTON ON TEES</td>\n",
       "      <td>CLEVELAND</td>\n",
       "      <td>TS18 1HU</td>\n",
       "    </tr>\n",
       "    <tr>\n",
       "      <th>1</th>\n",
       "      <td>A81002</td>\n",
       "      <td>QUEENS PARK MEDICAL CENTRE</td>\n",
       "      <td>QUEENS PARK MEDICAL CTR</td>\n",
       "      <td>FARRER STREET</td>\n",
       "      <td>STOCKTON ON TEES</td>\n",
       "      <td>CLEVELAND</td>\n",
       "      <td>TS18 2AW</td>\n",
       "    </tr>\n",
       "    <tr>\n",
       "      <th>2</th>\n",
       "      <td>A81003</td>\n",
       "      <td>VICTORIA MEDICAL PRACTICE</td>\n",
       "      <td>THE HEALTH CENTRE</td>\n",
       "      <td>VICTORIA ROAD</td>\n",
       "      <td>HARTLEPOOL</td>\n",
       "      <td>CLEVELAND</td>\n",
       "      <td>TS26 8DB</td>\n",
       "    </tr>\n",
       "    <tr>\n",
       "      <th>3</th>\n",
       "      <td>A81004</td>\n",
       "      <td>BLUEBELL MEDICAL CENTRE</td>\n",
       "      <td>TRIMDON AVENUE</td>\n",
       "      <td>ACKLAM</td>\n",
       "      <td>MIDDLESBROUGH</td>\n",
       "      <td>NaN</td>\n",
       "      <td>TS5 8SB</td>\n",
       "    </tr>\n",
       "    <tr>\n",
       "      <th>4</th>\n",
       "      <td>A81005</td>\n",
       "      <td>SPRINGWOOD SURGERY</td>\n",
       "      <td>SPRINGWOOD SURGERY</td>\n",
       "      <td>RECTORY LANE</td>\n",
       "      <td>GUISBOROUGH</td>\n",
       "      <td>NaN</td>\n",
       "      <td>TS14 7DJ</td>\n",
       "    </tr>\n",
       "  </tbody>\n",
       "</table>\n",
       "</div>"
      ],
      "text/plain": [
       "  prac_code                        name                   addr_1  \\\n",
       "0    A81001         THE DENSHAM SURGERY        THE HEALTH CENTRE   \n",
       "1    A81002  QUEENS PARK MEDICAL CENTRE  QUEENS PARK MEDICAL CTR   \n",
       "2    A81003   VICTORIA MEDICAL PRACTICE        THE HEALTH CENTRE   \n",
       "3    A81004     BLUEBELL MEDICAL CENTRE           TRIMDON AVENUE   \n",
       "4    A81005          SPRINGWOOD SURGERY       SPRINGWOOD SURGERY   \n",
       "\n",
       "          addr_2           borough    village post_code  \n",
       "0  LAWSON STREET  STOCKTON ON TEES  CLEVELAND  TS18 1HU  \n",
       "1  FARRER STREET  STOCKTON ON TEES  CLEVELAND  TS18 2AW  \n",
       "2  VICTORIA ROAD        HARTLEPOOL  CLEVELAND  TS26 8DB  \n",
       "3         ACKLAM     MIDDLESBROUGH        NaN   TS5 8SB  \n",
       "4   RECTORY LANE       GUISBOROUGH        NaN  TS14 7DJ  "
      ]
     },
     "execution_count": 77,
     "metadata": {},
     "output_type": "execute_result"
    }
   ],
   "source": [
    "practice_copy3.drop('prac_code', axis=1, inplace=True)\n",
    "practice_copy3.reset_index(inplace=True)\n",
    "practice_copy3.head()"
   ]
  },
  {
   "cell_type": "code",
   "execution_count": 78,
   "metadata": {},
   "outputs": [
    {
     "data": {
      "text/html": [
       "<div>\n",
       "<style scoped>\n",
       "    .dataframe tbody tr th:only-of-type {\n",
       "        vertical-align: middle;\n",
       "    }\n",
       "\n",
       "    .dataframe tbody tr th {\n",
       "        vertical-align: top;\n",
       "    }\n",
       "\n",
       "    .dataframe thead th {\n",
       "        text-align: right;\n",
       "    }\n",
       "</style>\n",
       "<table border=\"1\" class=\"dataframe\">\n",
       "  <thead>\n",
       "    <tr style=\"text-align: right;\">\n",
       "      <th></th>\n",
       "      <th>prac_code</th>\n",
       "      <th>name</th>\n",
       "      <th>addr_1</th>\n",
       "      <th>addr_2</th>\n",
       "      <th>borough</th>\n",
       "      <th>village</th>\n",
       "      <th>post_code</th>\n",
       "      <th>rare_score</th>\n",
       "    </tr>\n",
       "  </thead>\n",
       "  <tbody>\n",
       "    <tr>\n",
       "      <th>8948</th>\n",
       "      <td>Y03472</td>\n",
       "      <td>CONSULTANT DIABETES TEAM</td>\n",
       "      <td>HEALTHY LIVING CENTRE</td>\n",
       "      <td>PRINCES STREET</td>\n",
       "      <td>PETERBOROUGH</td>\n",
       "      <td>CAMBRIDGESHIRE</td>\n",
       "      <td>PE1 2QP</td>\n",
       "      <td>16.272195</td>\n",
       "    </tr>\n",
       "    <tr>\n",
       "      <th>10508</th>\n",
       "      <td>Y05320</td>\n",
       "      <td>DMC COMMUNITY DERMATOLOGY RBWF</td>\n",
       "      <td>BHI PARKSIDE</td>\n",
       "      <td>STOURBRIDGE ROAD</td>\n",
       "      <td>BROMSGROVE</td>\n",
       "      <td>NaN</td>\n",
       "      <td>B61 0AZ</td>\n",
       "      <td>15.137493</td>\n",
       "    </tr>\n",
       "    <tr>\n",
       "      <th>9702</th>\n",
       "      <td>Y04404</td>\n",
       "      <td>OUTPATIENTS JUBILEE HEALTH CENTRE</td>\n",
       "      <td>JUBILEE HEALTH CENTRE</td>\n",
       "      <td>SHOTFIELD</td>\n",
       "      <td>WALLINGTON</td>\n",
       "      <td>SURREY</td>\n",
       "      <td>SM6 0HY</td>\n",
       "      <td>7.546549</td>\n",
       "    </tr>\n",
       "    <tr>\n",
       "      <th>8955</th>\n",
       "      <td>Y03484</td>\n",
       "      <td>DMC COMMUNITY DERMATOLOGY CLINIC</td>\n",
       "      <td>SHEPPEY COMMUNITY HOSP</td>\n",
       "      <td>PLOVER ROAD</td>\n",
       "      <td>MINSTER ON SEA  SHEERNESS</td>\n",
       "      <td>KENT</td>\n",
       "      <td>ME12 3LT</td>\n",
       "      <td>7.291482</td>\n",
       "    </tr>\n",
       "    <tr>\n",
       "      <th>9721</th>\n",
       "      <td>Y04424</td>\n",
       "      <td>DMC HEALTHCARE</td>\n",
       "      <td>CANVEY ISLAND P.C.C.</td>\n",
       "      <td>LONG ROAD</td>\n",
       "      <td>CANVEY ISLAND</td>\n",
       "      <td>ESSEX</td>\n",
       "      <td>SS8 0JA</td>\n",
       "      <td>6.842612</td>\n",
       "    </tr>\n",
       "  </tbody>\n",
       "</table>\n",
       "</div>"
      ],
      "text/plain": [
       "      prac_code                               name                  addr_1  \\\n",
       "8948     Y03472           CONSULTANT DIABETES TEAM   HEALTHY LIVING CENTRE   \n",
       "10508    Y05320     DMC COMMUNITY DERMATOLOGY RBWF            BHI PARKSIDE   \n",
       "9702     Y04404  OUTPATIENTS JUBILEE HEALTH CENTRE   JUBILEE HEALTH CENTRE   \n",
       "8955     Y03484   DMC COMMUNITY DERMATOLOGY CLINIC  SHEPPEY COMMUNITY HOSP   \n",
       "9721     Y04424                     DMC HEALTHCARE    CANVEY ISLAND P.C.C.   \n",
       "\n",
       "                 addr_2                    borough         village post_code  \\\n",
       "8948     PRINCES STREET               PETERBOROUGH  CAMBRIDGESHIRE   PE1 2QP   \n",
       "10508  STOURBRIDGE ROAD                 BROMSGROVE             NaN   B61 0AZ   \n",
       "9702          SHOTFIELD                 WALLINGTON          SURREY   SM6 0HY   \n",
       "8955        PLOVER ROAD  MINSTER ON SEA  SHEERNESS            KENT  ME12 3LT   \n",
       "9721          LONG ROAD              CANVEY ISLAND           ESSEX   SS8 0JA   \n",
       "\n",
       "       rare_score  \n",
       "8948    16.272195  \n",
       "10508   15.137493  \n",
       "9702     7.546549  \n",
       "8955     7.291482  \n",
       "9721     6.842612  "
      ]
     },
     "execution_count": 78,
     "metadata": {},
     "output_type": "execute_result"
    }
   ],
   "source": [
    "rare_scripts_df = pd.merge(practice_copy3, rare_scores.reset_index(), how='left', on='prac_code')\n",
    "rare_scripts_df.sort_values(by='rare_score', ascending=False, inplace=True)\n",
    "rare_scripts_df.head()"
   ]
  },
  {
   "cell_type": "code",
   "execution_count": 79,
   "metadata": {},
   "outputs": [],
   "source": [
    "#rare_scripts = [(\"Y03472\", \"CONSULTANT DIABETES TEAM\", 16.2626871247)] * 100"
   ]
  },
  {
   "cell_type": "code",
   "execution_count": 80,
   "metadata": {},
   "outputs": [],
   "source": [
    "rare_scripts = [(rare_scripts_df['prac_code'].iloc[i], rare_scripts_df['name'].iloc[i], rare_scripts_df['rare_score'].iloc[i]) \\\n",
    "                for i in range(100)]"
   ]
  },
  {
   "cell_type": "code",
   "execution_count": 81,
   "metadata": {},
   "outputs": [
    {
     "data": {
      "text/plain": [
       "[('Y03472', 'CONSULTANT DIABETES TEAM', 16.27219468882569),\n",
       " ('Y05320', 'DMC COMMUNITY DERMATOLOGY RBWF', 15.137492772726269),\n",
       " ('Y04404', 'OUTPATIENTS JUBILEE HEALTH CENTRE', 7.546548675017432),\n",
       " ('Y03484', 'DMC COMMUNITY DERMATOLOGY CLINIC', 7.291482488414039),\n",
       " ('Y04424', 'DMC HEALTHCARE', 6.8426122023423055)]"
      ]
     },
     "execution_count": 81,
     "metadata": {},
     "output_type": "execute_result"
    }
   ],
   "source": [
    "rare_scripts[:5]"
   ]
  },
  {
   "cell_type": "code",
   "execution_count": 82,
   "metadata": {},
   "outputs": [
    {
     "name": "stdout",
     "output_type": "stream",
     "text": [
      "==================\n",
      "Your score:  1.0\n",
      "==================\n"
     ]
    }
   ],
   "source": [
    "grader.score.dw__rare_scripts(rare_scripts)"
   ]
  },
  {
   "cell_type": "markdown",
   "metadata": {},
   "source": [
    "*Copyright &copy; 2020 The Data Incubator.  All rights reserved.*"
   ]
  }
 ],
 "metadata": {
  "kernelspec": {
   "display_name": "Python 3",
   "language": "python",
   "name": "python3"
  },
  "language_info": {
   "codemirror_mode": {
    "name": "ipython",
    "version": 3
   },
   "file_extension": ".py",
   "mimetype": "text/x-python",
   "name": "python",
   "nbconvert_exporter": "python",
   "pygments_lexer": "ipython3",
   "version": "3.7.3"
  },
  "nbclean": true
 },
 "nbformat": 4,
 "nbformat_minor": 1
}
